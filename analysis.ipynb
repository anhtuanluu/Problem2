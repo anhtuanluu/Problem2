{
 "cells": [
  {
   "cell_type": "code",
   "execution_count": 1,
   "metadata": {},
   "outputs": [],
   "source": [
    "import pandas as pd\n",
    "import numpy as np\n",
    "import matplotlib.pyplot as plt\n",
    "%matplotlib inline\n",
    "plt.rcParams[\"figure.figsize\"] = [16, 9]"
   ]
  },
  {
   "cell_type": "code",
   "execution_count": 2,
   "metadata": {},
   "outputs": [],
   "source": [
    "df = pd.read_csv('data/data_final_problem2.csv')\n",
    "df1 = pd.read_csv('data/output.csv')"
   ]
  },
  {
   "cell_type": "code",
   "execution_count": 3,
   "metadata": {},
   "outputs": [],
   "source": [
    "df[\"Review_preprocess\"] = df1.Review"
   ]
  },
  {
   "cell_type": "code",
   "execution_count": 4,
   "metadata": {},
   "outputs": [
    {
     "data": {
      "text/html": [
       "<div>\n",
       "<style scoped>\n",
       "    .dataframe tbody tr th:only-of-type {\n",
       "        vertical-align: middle;\n",
       "    }\n",
       "\n",
       "    .dataframe tbody tr th {\n",
       "        vertical-align: top;\n",
       "    }\n",
       "\n",
       "    .dataframe thead th {\n",
       "        text-align: right;\n",
       "    }\n",
       "</style>\n",
       "<table border=\"1\" class=\"dataframe\">\n",
       "  <thead>\n",
       "    <tr style=\"text-align: right;\">\n",
       "      <th></th>\n",
       "      <th>Review</th>\n",
       "      <th>giai_tri</th>\n",
       "      <th>luu_tru</th>\n",
       "      <th>nha_hang</th>\n",
       "      <th>an_uong</th>\n",
       "      <th>di_chuyen</th>\n",
       "      <th>mua_sam</th>\n",
       "      <th>Review_preprocess</th>\n",
       "    </tr>\n",
       "  </thead>\n",
       "  <tbody>\n",
       "    <tr>\n",
       "      <th>0</th>\n",
       "      <td>Bánh rất nhiều tôm to, tôm giòn nằm chễm chệ t...</td>\n",
       "      <td>0</td>\n",
       "      <td>0</td>\n",
       "      <td>0</td>\n",
       "      <td>5</td>\n",
       "      <td>0</td>\n",
       "      <td>0</td>\n",
       "      <td>bánh nhiều tôm to tôm giòn nằm trên vỏ bánh mề...</td>\n",
       "    </tr>\n",
       "    <tr>\n",
       "      <th>1</th>\n",
       "      <td>Đi Quy Nhơn cứ lo không có pizza ăn nhưng nhờ ...</td>\n",
       "      <td>0</td>\n",
       "      <td>0</td>\n",
       "      <td>0</td>\n",
       "      <td>5</td>\n",
       "      <td>0</td>\n",
       "      <td>0</td>\n",
       "      <td>đi quy_nhơn cứ lo không pizza ăn nhưng nhờ foo...</td>\n",
       "    </tr>\n",
       "    <tr>\n",
       "      <th>2</th>\n",
       "      <td>các món ăn ở đây không có gì đặc sắc, có lẽ nấ...</td>\n",
       "      <td>0</td>\n",
       "      <td>0</td>\n",
       "      <td>1</td>\n",
       "      <td>1</td>\n",
       "      <td>0</td>\n",
       "      <td>0</td>\n",
       "      <td>các món ăn_ở đây không gì đặc_sắc có_lẽ nấu th...</td>\n",
       "    </tr>\n",
       "    <tr>\n",
       "      <th>3</th>\n",
       "      <td>Lần thứ 2 quay lại đây, vì giới thiệu quán cà ...</td>\n",
       "      <td>0</td>\n",
       "      <td>0</td>\n",
       "      <td>0</td>\n",
       "      <td>2</td>\n",
       "      <td>0</td>\n",
       "      <td>0</td>\n",
       "      <td>lần thứ 2 quay lại đây vì giới_thiệu quán cà_p...</td>\n",
       "    </tr>\n",
       "    <tr>\n",
       "      <th>4</th>\n",
       "      <td>Rất khuyên bạn nên ghé thăm quán bar thể thao này</td>\n",
       "      <td>3</td>\n",
       "      <td>0</td>\n",
       "      <td>0</td>\n",
       "      <td>0</td>\n",
       "      <td>0</td>\n",
       "      <td>0</td>\n",
       "      <td>khuyên bạn ghé thăm quán bar thể_thao này</td>\n",
       "    </tr>\n",
       "  </tbody>\n",
       "</table>\n",
       "</div>"
      ],
      "text/plain": [
       "                                              Review  giai_tri  luu_tru  \\\n",
       "0  Bánh rất nhiều tôm to, tôm giòn nằm chễm chệ t...         0        0   \n",
       "1  Đi Quy Nhơn cứ lo không có pizza ăn nhưng nhờ ...         0        0   \n",
       "2  các món ăn ở đây không có gì đặc sắc, có lẽ nấ...         0        0   \n",
       "3  Lần thứ 2 quay lại đây, vì giới thiệu quán cà ...         0        0   \n",
       "4  Rất khuyên bạn nên ghé thăm quán bar thể thao này         3        0   \n",
       "\n",
       "   nha_hang  an_uong  di_chuyen  mua_sam  \\\n",
       "0         0        5          0        0   \n",
       "1         0        5          0        0   \n",
       "2         1        1          0        0   \n",
       "3         0        2          0        0   \n",
       "4         0        0          0        0   \n",
       "\n",
       "                                   Review_preprocess  \n",
       "0  bánh nhiều tôm to tôm giòn nằm trên vỏ bánh mề...  \n",
       "1  đi quy_nhơn cứ lo không pizza ăn nhưng nhờ foo...  \n",
       "2  các món ăn_ở đây không gì đặc_sắc có_lẽ nấu th...  \n",
       "3  lần thứ 2 quay lại đây vì giới_thiệu quán cà_p...  \n",
       "4          khuyên bạn ghé thăm quán bar thể_thao này  "
      ]
     },
     "execution_count": 4,
     "metadata": {},
     "output_type": "execute_result"
    }
   ],
   "source": [
    "df.head()"
   ]
  },
  {
   "cell_type": "code",
   "execution_count": 5,
   "metadata": {},
   "outputs": [
    {
     "data": {
      "text/html": [
       "<div>\n",
       "<style scoped>\n",
       "    .dataframe tbody tr th:only-of-type {\n",
       "        vertical-align: middle;\n",
       "    }\n",
       "\n",
       "    .dataframe tbody tr th {\n",
       "        vertical-align: top;\n",
       "    }\n",
       "\n",
       "    .dataframe thead th {\n",
       "        text-align: right;\n",
       "    }\n",
       "</style>\n",
       "<table border=\"1\" class=\"dataframe\">\n",
       "  <thead>\n",
       "    <tr style=\"text-align: right;\">\n",
       "      <th></th>\n",
       "      <th>giai_tri</th>\n",
       "      <th>luu_tru</th>\n",
       "      <th>nha_hang</th>\n",
       "      <th>an_uong</th>\n",
       "      <th>di_chuyen</th>\n",
       "      <th>mua_sam</th>\n",
       "    </tr>\n",
       "  </thead>\n",
       "  <tbody>\n",
       "    <tr>\n",
       "      <th>count</th>\n",
       "      <td>3688.000000</td>\n",
       "      <td>3688.000000</td>\n",
       "      <td>3688.000000</td>\n",
       "      <td>3688.000000</td>\n",
       "      <td>3688.000000</td>\n",
       "      <td>3688.000000</td>\n",
       "    </tr>\n",
       "    <tr>\n",
       "      <th>mean</th>\n",
       "      <td>0.581074</td>\n",
       "      <td>0.791215</td>\n",
       "      <td>0.312636</td>\n",
       "      <td>1.677332</td>\n",
       "      <td>0.789046</td>\n",
       "      <td>0.309382</td>\n",
       "    </tr>\n",
       "    <tr>\n",
       "      <th>std</th>\n",
       "      <td>1.486378</td>\n",
       "      <td>1.666794</td>\n",
       "      <td>1.128391</td>\n",
       "      <td>2.148793</td>\n",
       "      <td>1.651480</td>\n",
       "      <td>1.089685</td>\n",
       "    </tr>\n",
       "    <tr>\n",
       "      <th>min</th>\n",
       "      <td>0.000000</td>\n",
       "      <td>0.000000</td>\n",
       "      <td>0.000000</td>\n",
       "      <td>0.000000</td>\n",
       "      <td>0.000000</td>\n",
       "      <td>0.000000</td>\n",
       "    </tr>\n",
       "    <tr>\n",
       "      <th>25%</th>\n",
       "      <td>0.000000</td>\n",
       "      <td>0.000000</td>\n",
       "      <td>0.000000</td>\n",
       "      <td>0.000000</td>\n",
       "      <td>0.000000</td>\n",
       "      <td>0.000000</td>\n",
       "    </tr>\n",
       "    <tr>\n",
       "      <th>50%</th>\n",
       "      <td>0.000000</td>\n",
       "      <td>0.000000</td>\n",
       "      <td>0.000000</td>\n",
       "      <td>0.000000</td>\n",
       "      <td>0.000000</td>\n",
       "      <td>0.000000</td>\n",
       "    </tr>\n",
       "    <tr>\n",
       "      <th>75%</th>\n",
       "      <td>0.000000</td>\n",
       "      <td>0.000000</td>\n",
       "      <td>0.000000</td>\n",
       "      <td>4.000000</td>\n",
       "      <td>0.000000</td>\n",
       "      <td>0.000000</td>\n",
       "    </tr>\n",
       "    <tr>\n",
       "      <th>max</th>\n",
       "      <td>5.000000</td>\n",
       "      <td>5.000000</td>\n",
       "      <td>5.000000</td>\n",
       "      <td>5.000000</td>\n",
       "      <td>5.000000</td>\n",
       "      <td>5.000000</td>\n",
       "    </tr>\n",
       "  </tbody>\n",
       "</table>\n",
       "</div>"
      ],
      "text/plain": [
       "          giai_tri      luu_tru     nha_hang      an_uong    di_chuyen  \\\n",
       "count  3688.000000  3688.000000  3688.000000  3688.000000  3688.000000   \n",
       "mean      0.581074     0.791215     0.312636     1.677332     0.789046   \n",
       "std       1.486378     1.666794     1.128391     2.148793     1.651480   \n",
       "min       0.000000     0.000000     0.000000     0.000000     0.000000   \n",
       "25%       0.000000     0.000000     0.000000     0.000000     0.000000   \n",
       "50%       0.000000     0.000000     0.000000     0.000000     0.000000   \n",
       "75%       0.000000     0.000000     0.000000     4.000000     0.000000   \n",
       "max       5.000000     5.000000     5.000000     5.000000     5.000000   \n",
       "\n",
       "           mua_sam  \n",
       "count  3688.000000  \n",
       "mean      0.309382  \n",
       "std       1.089685  \n",
       "min       0.000000  \n",
       "25%       0.000000  \n",
       "50%       0.000000  \n",
       "75%       0.000000  \n",
       "max       5.000000  "
      ]
     },
     "execution_count": 5,
     "metadata": {},
     "output_type": "execute_result"
    }
   ],
   "source": [
    "df.describe()"
   ]
  },
  {
   "cell_type": "code",
   "execution_count": 12,
   "metadata": {},
   "outputs": [
    {
     "data": {
      "text/plain": [
       "array([[<AxesSubplot:title={'center':'giai_tri'}>,\n",
       "        <AxesSubplot:title={'center':'luu_tru'}>],\n",
       "       [<AxesSubplot:title={'center':'nha_hang'}>,\n",
       "        <AxesSubplot:title={'center':'an_uong'}>],\n",
       "       [<AxesSubplot:title={'center':'di_chuyen'}>,\n",
       "        <AxesSubplot:title={'center':'mua_sam'}>]], dtype=object)"
      ]
     },
     "execution_count": 12,
     "metadata": {},
     "output_type": "execute_result"
    },
    {
     "data": {
      "image/png": "[encoded data removed]",
      "text/plain": [
       "<Figure size 1152x648 with 6 Axes>"
      ]
     },
     "metadata": {
      "needs_background": "light"
     },
     "output_type": "display_data"
    }
   ],
   "source": [
    "train_df.hist()"
   ]
  },
  {
   "cell_type": "code",
   "execution_count": 85,
   "metadata": {},
   "outputs": [
    {
     "data": {
      "text/plain": [
       "array([[<AxesSubplot:title={'center':'a0'}>,\n",
       "        <AxesSubplot:title={'center':'a1'}>],\n",
       "       [<AxesSubplot:title={'center':'a2'}>,\n",
       "        <AxesSubplot:title={'center':'a3'}>],\n",
       "       [<AxesSubplot:title={'center':'a4'}>,\n",
       "        <AxesSubplot:title={'center':'a5'}>]], dtype=object)"
      ]
     },
     "execution_count": 85,
     "metadata": {},
     "output_type": "execute_result"
    },
    {
     "data": {
      "image/png": "[encoded data removed]",
      "text/plain": [
       "<Figure size 1152x648 with 6 Axes>"
      ]
     },
     "metadata": {
      "needs_background": "light"
     },
     "output_type": "display_data"
    }
   ],
   "source": [
    "test_df.hist()"
   ]
  },
  {
   "cell_type": "code",
   "execution_count": 4,
   "metadata": {},
   "outputs": [],
   "source": [
    "a_col = df.select_dtypes('int64').columns.to_list()"
   ]
  },
  {
   "cell_type": "code",
   "execution_count": 5,
   "metadata": {},
   "outputs": [
    {
     "data": {
      "text/plain": [
       "['giai_tri', 'luu_tru', 'nha_hang', 'an_uong', 'di_chuyen', 'mua_sam']"
      ]
     },
     "execution_count": 5,
     "metadata": {},
     "output_type": "execute_result"
    }
   ],
   "source": [
    "a_col"
   ]
  },
  {
   "cell_type": "code",
   "execution_count": 10,
   "metadata": {},
   "outputs": [
    {
     "data": {
      "text/plain": [
       "557"
      ]
     },
     "execution_count": 10,
     "metadata": {},
     "output_type": "execute_result"
    }
   ],
   "source": [
    "train_df.giai_tri.clip(upper=1).sum()"
   ]
  },
  {
   "cell_type": "code",
   "execution_count": 4,
   "metadata": {},
   "outputs": [
    {
     "data": {
      "text/plain": [
       "array([[<AxesSubplot:title={'center':'giai_tri'}>,\n",
       "        <AxesSubplot:title={'center':'luu_tru'}>],\n",
       "       [<AxesSubplot:title={'center':'nha_hang'}>,\n",
       "        <AxesSubplot:title={'center':'an_uong'}>],\n",
       "       [<AxesSubplot:title={'center':'di_chuyen'}>,\n",
       "        <AxesSubplot:title={'center':'mua_sam'}>]], dtype=object)"
      ]
     },
     "execution_count": 4,
     "metadata": {},
     "output_type": "execute_result"
    },
    {
     "data": {
      "image/png": "[encoded data removed]",
      "text/plain": [
       "<Figure size 1152x648 with 6 Axes>"
      ]
     },
     "metadata": {
      "needs_background": "light"
     },
     "output_type": "display_data"
    }
   ],
   "source": [
    "train_df[a_col].clip(upper=1).hist()"
   ]
  },
  {
   "cell_type": "code",
   "execution_count": 94,
   "metadata": {},
   "outputs": [
    {
     "data": {
      "text/plain": [
       "array([[<AxesSubplot:title={'center':'a0'}>,\n",
       "        <AxesSubplot:title={'center':'a1'}>],\n",
       "       [<AxesSubplot:title={'center':'a2'}>,\n",
       "        <AxesSubplot:title={'center':'a3'}>],\n",
       "       [<AxesSubplot:title={'center':'a4'}>,\n",
       "        <AxesSubplot:title={'center':'a5'}>]], dtype=object)"
      ]
     },
     "execution_count": 94,
     "metadata": {},
     "output_type": "execute_result"
    },
    {
     "data": {
      "image/png": "[encoded data removed]",
      "text/plain": [
       "<Figure size 1152x648 with 6 Axes>"
      ]
     },
     "metadata": {
      "needs_background": "light"
     },
     "output_type": "display_data"
    }
   ],
   "source": [
    "test_df[a_col].clip(upper=1).hist()"
   ]
  },
  {
   "cell_type": "code",
   "execution_count": 97,
   "metadata": {},
   "outputs": [
    {
     "data": {
      "text/plain": [
       "<AxesSubplot:ylabel='Frequency'>"
      ]
     },
     "execution_count": 97,
     "metadata": {},
     "output_type": "execute_result"
    },
    {
     "data": {
      "image/png": "[encoded data removed]",
      "text/plain": [
       "<Figure size 1152x648 with 1 Axes>"
      ]
     },
     "metadata": {
      "needs_background": "light"
     },
     "output_type": "display_data"
    }
   ],
   "source": [
    "train_df[a_col].clip(upper=1).sum(axis=1).plot.hist()"
   ]
  },
  {
   "cell_type": "code",
   "execution_count": 98,
   "metadata": {},
   "outputs": [
    {
     "data": {
      "text/plain": [
       "<AxesSubplot:ylabel='Frequency'>"
      ]
     },
     "execution_count": 98,
     "metadata": {},
     "output_type": "execute_result"
    },
    {
     "data": {
      "image/png": "[encoded data removed]",
      "text/plain": [
       "<Figure size 1152x648 with 1 Axes>"
      ]
     },
     "metadata": {
      "needs_background": "light"
     },
     "output_type": "display_data"
    }
   ],
   "source": [
    "test_df[a_col].clip(upper=1).sum(axis=1).plot.hist()"
   ]
  },
  {
   "cell_type": "code",
   "execution_count": 100,
   "metadata": {},
   "outputs": [
    {
     "data": {
      "text/plain": [
       "19.106239460370993"
      ]
     },
     "execution_count": 100,
     "metadata": {},
     "output_type": "execute_result"
    }
   ],
   "source": [
    "train_df[a_col].clip(upper=1).sum().sum()/train_df[a_col].clip(upper=1).count().sum() * 100"
   ]
  },
  {
   "cell_type": "code",
   "execution_count": 99,
   "metadata": {},
   "outputs": [
    {
     "data": {
      "text/plain": [
       "18.975396022918773"
      ]
     },
     "execution_count": 99,
     "metadata": {},
     "output_type": "execute_result"
    }
   ],
   "source": [
    "test_df[a_col].clip(upper=1).sum().sum()/test_df[a_col].clip(upper=1).count().sum() * 100"
   ]
  },
  {
   "cell_type": "code",
   "execution_count": 5,
   "metadata": {},
   "outputs": [],
   "source": [
    "import imp\n",
    "import sklearn\n",
    "from sklearn.feature_extraction.text import TfidfVectorizer\n",
    "from sklearn.model_selection import cross_val_score\n",
    "from sklearn.neighbors import KNeighborsClassifier\n",
    "from sklearn.metrics import f1_score\n",
    "from sklearn.ensemble import RandomForestClassifier\n",
    "from sklearn.ensemble import RandomForestRegressor\n",
    "from sklearn.svm import SVC\n",
    "from sklearn.naive_bayes import MultinomialNB\n",
    "from xgboost import XGBClassifier"
   ]
  },
  {
   "cell_type": "code",
   "execution_count": 5,
   "metadata": {},
   "outputs": [],
   "source": [
    "train_df = df[:2955]\n",
    "test_df = df[2955:]"
   ]
  },
  {
   "cell_type": "code",
   "execution_count": 8,
   "metadata": {},
   "outputs": [
    {
     "data": {
      "text/html": [
       "<div>\n",
       "<style scoped>\n",
       "    .dataframe tbody tr th:only-of-type {\n",
       "        vertical-align: middle;\n",
       "    }\n",
       "\n",
       "    .dataframe tbody tr th {\n",
       "        vertical-align: top;\n",
       "    }\n",
       "\n",
       "    .dataframe thead th {\n",
       "        text-align: right;\n",
       "    }\n",
       "</style>\n",
       "<table border=\"1\" class=\"dataframe\">\n",
       "  <thead>\n",
       "    <tr style=\"text-align: right;\">\n",
       "      <th></th>\n",
       "      <th>Review</th>\n",
       "      <th>giai_tri</th>\n",
       "      <th>luu_tru</th>\n",
       "      <th>nha_hang</th>\n",
       "      <th>an_uong</th>\n",
       "      <th>di_chuyen</th>\n",
       "      <th>mua_sam</th>\n",
       "      <th>Review_preprocess</th>\n",
       "    </tr>\n",
       "  </thead>\n",
       "  <tbody>\n",
       "    <tr>\n",
       "      <th>0</th>\n",
       "      <td>Bánh rất nhiều tôm to, tôm giòn nằm chễm chệ t...</td>\n",
       "      <td>0</td>\n",
       "      <td>0</td>\n",
       "      <td>0</td>\n",
       "      <td>5</td>\n",
       "      <td>0</td>\n",
       "      <td>0</td>\n",
       "      <td>bánh nhiều tôm to tôm giòn nằm trên vỏ bánh mề...</td>\n",
       "    </tr>\n",
       "    <tr>\n",
       "      <th>1</th>\n",
       "      <td>Đi Quy Nhơn cứ lo không có pizza ăn nhưng nhờ ...</td>\n",
       "      <td>0</td>\n",
       "      <td>0</td>\n",
       "      <td>0</td>\n",
       "      <td>5</td>\n",
       "      <td>0</td>\n",
       "      <td>0</td>\n",
       "      <td>đi quy_nhơn cứ lo không pizza ăn nhưng nhờ foo...</td>\n",
       "    </tr>\n",
       "    <tr>\n",
       "      <th>2</th>\n",
       "      <td>các món ăn ở đây không có gì đặc sắc, có lẽ nấ...</td>\n",
       "      <td>0</td>\n",
       "      <td>0</td>\n",
       "      <td>1</td>\n",
       "      <td>1</td>\n",
       "      <td>0</td>\n",
       "      <td>0</td>\n",
       "      <td>các món ăn_ở đây không gì đặc_sắc có_lẽ nấu th...</td>\n",
       "    </tr>\n",
       "    <tr>\n",
       "      <th>3</th>\n",
       "      <td>Lần thứ 2 quay lại đây, vì giới thiệu quán cà ...</td>\n",
       "      <td>0</td>\n",
       "      <td>0</td>\n",
       "      <td>0</td>\n",
       "      <td>2</td>\n",
       "      <td>0</td>\n",
       "      <td>0</td>\n",
       "      <td>lần thứ 2 quay lại đây vì giới_thiệu quán cà_p...</td>\n",
       "    </tr>\n",
       "    <tr>\n",
       "      <th>4</th>\n",
       "      <td>Rất khuyên bạn nên ghé thăm quán bar thể thao này</td>\n",
       "      <td>3</td>\n",
       "      <td>0</td>\n",
       "      <td>0</td>\n",
       "      <td>0</td>\n",
       "      <td>0</td>\n",
       "      <td>0</td>\n",
       "      <td>khuyên bạn ghé thăm quán bar thể_thao này</td>\n",
       "    </tr>\n",
       "  </tbody>\n",
       "</table>\n",
       "</div>"
      ],
      "text/plain": [
       "                                              Review  giai_tri  luu_tru  \\\n",
       "0  Bánh rất nhiều tôm to, tôm giòn nằm chễm chệ t...         0        0   \n",
       "1  Đi Quy Nhơn cứ lo không có pizza ăn nhưng nhờ ...         0        0   \n",
       "2  các món ăn ở đây không có gì đặc sắc, có lẽ nấ...         0        0   \n",
       "3  Lần thứ 2 quay lại đây, vì giới thiệu quán cà ...         0        0   \n",
       "4  Rất khuyên bạn nên ghé thăm quán bar thể thao này         3        0   \n",
       "\n",
       "   nha_hang  an_uong  di_chuyen  mua_sam  \\\n",
       "0         0        5          0        0   \n",
       "1         0        5          0        0   \n",
       "2         1        1          0        0   \n",
       "3         0        2          0        0   \n",
       "4         0        0          0        0   \n",
       "\n",
       "                                   Review_preprocess  \n",
       "0  bánh nhiều tôm to tôm giòn nằm trên vỏ bánh mề...  \n",
       "1  đi quy_nhơn cứ lo không pizza ăn nhưng nhờ foo...  \n",
       "2  các món ăn_ở đây không gì đặc_sắc có_lẽ nấu th...  \n",
       "3  lần thứ 2 quay lại đây vì giới_thiệu quán cà_p...  \n",
       "4          khuyên bạn ghé thăm quán bar thể_thao này  "
      ]
     },
     "execution_count": 8,
     "metadata": {},
     "output_type": "execute_result"
    }
   ],
   "source": [
    "train_df.head()"
   ]
  },
  {
   "cell_type": "code",
   "execution_count": 6,
   "metadata": {},
   "outputs": [],
   "source": [
    "x_train = train_df['Review']\n",
    "y_train = train_df[a_col]\n",
    "y_train_a0 = train_df['giai_tri']\n",
    "y_train_a1 = train_df['luu_tru']\n",
    "y_train_a2 = train_df['nha_hang']\n",
    "y_train_a3 = train_df['an_uong']\n",
    "y_train_a4 = train_df['di_chuyen']\n",
    "y_train_a5 = train_df['mua_sam']"
   ]
  },
  {
   "cell_type": "code",
   "execution_count": 7,
   "metadata": {},
   "outputs": [],
   "source": [
    "x_test = test_df['Review']\n",
    "y_test = test_df[a_col]\n",
    "y_test_a0 = test_df['giai_tri']\n",
    "y_test_a1 = test_df['luu_tru']\n",
    "y_test_a2 = test_df['nha_hang']\n",
    "y_test_a3 = test_df['an_uong']\n",
    "y_test_a4 = test_df['di_chuyen']\n",
    "y_test_a5 = test_df['mua_sam']"
   ]
  },
  {
   "cell_type": "code",
   "execution_count": 13,
   "metadata": {},
   "outputs": [
    {
     "data": {
      "text/plain": [
       "0    Bánh rất nhiều tôm to, tôm giòn nằm chễm chệ t...\n",
       "1    Đi Quy Nhơn cứ lo không có pizza ăn nhưng nhờ ...\n",
       "2    các món ăn ở đây không có gì đặc sắc, có lẽ nấ...\n",
       "3    Lần thứ 2 quay lại đây, vì giới thiệu quán cà ...\n",
       "4    Rất khuyên bạn nên ghé thăm quán bar thể thao này\n",
       "Name: Review, dtype: object"
      ]
     },
     "execution_count": 13,
     "metadata": {},
     "output_type": "execute_result"
    }
   ],
   "source": [
    "x_train.head()"
   ]
  },
  {
   "cell_type": "code",
   "execution_count": 8,
   "metadata": {},
   "outputs": [],
   "source": [
    "import pandas as pd\n",
    "import json\n",
    "import numpy as np\n",
    "import pickle\n",
    "import os\n",
    "import torch\n",
    "import re\n",
    "import string\n",
    "from collections import OrderedDict\n",
    "from sklearn.preprocessing import LabelEncoder\n",
    "\n",
    "EMOTICONS = {\n",
    "    u\":‑\\)\":\"Happy face or smiley\",\n",
    "    u\":\\)\":\"Happy face or smiley\",\n",
    "    u\":-\\]\":\"Happy face or smiley\",\n",
    "    u\":\\]\":\"Happy face or smiley\",\n",
    "    u\":-3\":\"Happy face smiley\",\n",
    "    u\":3\":\"Happy face smiley\",\n",
    "    u\":->\":\"Happy face smiley\",\n",
    "    u\":>\":\"Happy face smiley\",\n",
    "    u\"8-\\)\":\"Happy face smiley\",\n",
    "    u\":o\\)\":\"Happy face smiley\",\n",
    "    u\":-\\}\":\"Happy face smiley\",\n",
    "    u\":\\}\":\"Happy face smiley\",\n",
    "    u\":-\\)\":\"Happy face smiley\",\n",
    "    u\":c\\)\":\"Happy face smiley\",\n",
    "    u\":\\^\\)\":\"Happy face smiley\",\n",
    "    u\"=\\]\":\"Happy face smiley\",\n",
    "    u\"=\\)\":\"Happy face smiley\",\n",
    "    u\":‑D\":\"Laughing, big grin or laugh with glasses\",\n",
    "    u\":D\":\"Laughing, big grin or laugh with glasses\",\n",
    "    u\"8‑D\":\"Laughing, big grin or laugh with glasses\",\n",
    "    u\"8D\":\"Laughing, big grin or laugh with glasses\",\n",
    "    u\"X‑D\":\"Laughing, big grin or laugh with glasses\",\n",
    "    u\"XD\":\"Laughing, big grin or laugh with glasses\",\n",
    "    u\"=D\":\"Laughing, big grin or laugh with glasses\",\n",
    "    u\"=3\":\"Laughing, big grin or laugh with glasses\",\n",
    "    u\"B\\^D\":\"Laughing, big grin or laugh with glasses\",\n",
    "    u\":-\\)\\)\":\"Very happy\",\n",
    "    u\":‑\\(\":\"Frown, sad, andry or pouting\",\n",
    "    u\":-\\(\":\"Frown, sad, andry or pouting\",\n",
    "    u\":\\(\":\"Frown, sad, andry or pouting\",\n",
    "    u\":‑c\":\"Frown, sad, andry or pouting\",\n",
    "    u\":c\":\"Frown, sad, andry or pouting\",\n",
    "    u\":‑<\":\"Frown, sad, andry or pouting\",\n",
    "    u\":<\":\"Frown, sad, andry or pouting\",\n",
    "    u\":‑\\[\":\"Frown, sad, andry or pouting\",\n",
    "    u\":\\[\":\"Frown, sad, andry or pouting\",\n",
    "    u\":-\\|\\|\":\"Frown, sad, andry or pouting\",\n",
    "    u\">:\\[\":\"Frown, sad, andry or pouting\",\n",
    "    u\":\\{\":\"Frown, sad, andry or pouting\",\n",
    "    u\":@\":\"Frown, sad, andry or pouting\",\n",
    "    u\">:\\(\":\"Frown, sad, andry or pouting\",\n",
    "    u\":'‑\\(\":\"Crying\",\n",
    "    u\":'\\(\":\"Crying\",\n",
    "    u\":'‑\\)\":\"Tears of happiness\",\n",
    "    u\":'\\)\":\"Tears of happiness\",\n",
    "    u\"D‑':\":\"Horror\",\n",
    "    u\"D:<\":\"Disgust\",\n",
    "    u\"D:\":\"Sadness\",\n",
    "    u\"D8\":\"Great dismay\",\n",
    "    u\"D;\":\"Great dismay\",\n",
    "    u\"D=\":\"Great dismay\",\n",
    "    u\"DX\":\"Great dismay\",\n",
    "    u\":‑O\":\"Surprise\",\n",
    "    u\":O\":\"Surprise\",\n",
    "    u\":‑o\":\"Surprise\",\n",
    "    u\":o\":\"Surprise\",\n",
    "    u\":-0\":\"Shock\",\n",
    "    u\"8‑0\":\"Yawn\",\n",
    "    u\">:O\":\"Yawn\",\n",
    "    u\":-\\*\":\"Kiss\",\n",
    "    u\":\\*\":\"Kiss\",\n",
    "    u\":X\":\"Kiss\",\n",
    "    u\";‑\\)\":\"Wink or smirk\",\n",
    "    u\";\\)\":\"Wink or smirk\",\n",
    "    u\"\\*-\\)\":\"Wink or smirk\",\n",
    "    u\"\\*\\)\":\"Wink or smirk\",\n",
    "    u\";‑\\]\":\"Wink or smirk\",\n",
    "    u\";\\]\":\"Wink or smirk\",\n",
    "    u\";\\^\\)\":\"Wink or smirk\",\n",
    "    u\":‑,\":\"Wink or smirk\",\n",
    "    u\";D\":\"Wink or smirk\",\n",
    "    u\":‑P\":\"Tongue sticking out, cheeky, playful or blowing a raspberry\",\n",
    "    u\":P\":\"Tongue sticking out, cheeky, playful or blowing a raspberry\",\n",
    "    u\"X‑P\":\"Tongue sticking out, cheeky, playful or blowing a raspberry\",\n",
    "    u\"XP\":\"Tongue sticking out, cheeky, playful or blowing a raspberry\",\n",
    "    u\":‑Þ\":\"Tongue sticking out, cheeky, playful or blowing a raspberry\",\n",
    "    u\":Þ\":\"Tongue sticking out, cheeky, playful or blowing a raspberry\",\n",
    "    u\":b\":\"Tongue sticking out, cheeky, playful or blowing a raspberry\",\n",
    "    u\"d:\":\"Tongue sticking out, cheeky, playful or blowing a raspberry\",\n",
    "    u\"=p\":\"Tongue sticking out, cheeky, playful or blowing a raspberry\",\n",
    "    u\">:P\":\"Tongue sticking out, cheeky, playful or blowing a raspberry\",\n",
    "    u\":‑/\":\"Skeptical, annoyed, undecided, uneasy or hesitant\",\n",
    "    u\":/\":\"Skeptical, annoyed, undecided, uneasy or hesitant\",\n",
    "    u\":-[.]\":\"Skeptical, annoyed, undecided, uneasy or hesitant\",\n",
    "    u\">:[(\\\\\\)]\":\"Skeptical, annoyed, undecided, uneasy or hesitant\",\n",
    "    u\">:/\":\"Skeptical, annoyed, undecided, uneasy or hesitant\",\n",
    "    u\":[(\\\\\\)]\":\"Skeptical, annoyed, undecided, uneasy or hesitant\",\n",
    "    u\"=/\":\"Skeptical, annoyed, undecided, uneasy or hesitant\",\n",
    "    u\"=[(\\\\\\)]\":\"Skeptical, annoyed, undecided, uneasy or hesitant\",\n",
    "    u\":L\":\"Skeptical, annoyed, undecided, uneasy or hesitant\",\n",
    "    u\"=L\":\"Skeptical, annoyed, undecided, uneasy or hesitant\",\n",
    "    u\":S\":\"Skeptical, annoyed, undecided, uneasy or hesitant\",\n",
    "    u\":‑\\|\":\"Straight face\",\n",
    "    u\":\\|\":\"Straight face\",\n",
    "    u\":$\":\"Embarrassed or blushing\",\n",
    "    u\":‑x\":\"Sealed lips or wearing braces or tongue-tied\",\n",
    "    u\":x\":\"Sealed lips or wearing braces or tongue-tied\",\n",
    "    u\":‑#\":\"Sealed lips or wearing braces or tongue-tied\",\n",
    "    u\":#\":\"Sealed lips or wearing braces or tongue-tied\",\n",
    "    u\":‑&\":\"Sealed lips or wearing braces or tongue-tied\",\n",
    "    u\":&\":\"Sealed lips or wearing braces or tongue-tied\",\n",
    "    u\"O:‑\\)\":\"Angel, saint or innocent\",\n",
    "    u\"O:\\)\":\"Angel, saint or innocent\",\n",
    "    u\"0:‑3\":\"Angel, saint or innocent\",\n",
    "    u\"0:3\":\"Angel, saint or innocent\",\n",
    "    u\"0:‑\\)\":\"Angel, saint or innocent\",\n",
    "    u\"0:\\)\":\"Angel, saint or innocent\",\n",
    "    u\":‑b\":\"Tongue sticking out, cheeky, playful or blowing a raspberry\",\n",
    "    u\"0;\\^\\)\":\"Angel, saint or innocent\",\n",
    "    u\">:‑\\)\":\"Evil or devilish\",\n",
    "    u\">:\\)\":\"Evil or devilish\",\n",
    "    u\"\\}:‑\\)\":\"Evil or devilish\",\n",
    "    u\"\\}:\\)\":\"Evil or devilish\",\n",
    "    u\"3:‑\\)\":\"Evil or devilish\",\n",
    "    u\"3:\\)\":\"Evil or devilish\",\n",
    "    u\">;\\)\":\"Evil or devilish\",\n",
    "    u\"\\|;‑\\)\":\"Cool\",\n",
    "    u\"\\|‑O\":\"Bored\",\n",
    "    u\":‑J\":\"Tongue-in-cheek\",\n",
    "    u\"#‑\\)\":\"Party all night\",\n",
    "    u\"%‑\\)\":\"Drunk or confused\",\n",
    "    u\"%\\)\":\"Drunk or confused\",\n",
    "    u\":-###..\":\"Being sick\",\n",
    "    u\":###..\":\"Being sick\",\n",
    "    u\"<:‑\\|\":\"Dump\",\n",
    "    u\"\\(>_<\\)\":\"Troubled\",\n",
    "    u\"\\(>_<\\)>\":\"Troubled\",\n",
    "    u\"\\(';'\\)\":\"Baby\",\n",
    "    u\"\\(\\^\\^>``\":\"Nervous or Embarrassed or Troubled or Shy or Sweat drop\",\n",
    "    u\"\\(\\^_\\^;\\)\":\"Nervous or Embarrassed or Troubled or Shy or Sweat drop\",\n",
    "    u\"\\(-_-;\\)\":\"Nervous or Embarrassed or Troubled or Shy or Sweat drop\",\n",
    "    u\"\\(~_~;\\) \\(・\\.・;\\)\":\"Nervous or Embarrassed or Troubled or Shy or Sweat drop\",\n",
    "    u\"\\(-_-\\)zzz\":\"Sleeping\",\n",
    "    u\"\\(\\^_-\\)\":\"Wink\",\n",
    "    u\"\\(\\(\\+_\\+\\)\\)\":\"Confused\",\n",
    "    u\"\\(\\+o\\+\\)\":\"Confused\",\n",
    "    u\"\\(o\\|o\\)\":\"Ultraman\",\n",
    "    u\"\\^_\\^\":\"Joyful\",\n",
    "    u\"\\(\\^_\\^\\)/\":\"Joyful\",\n",
    "    u\"\\(\\^O\\^\\)／\":\"Joyful\",\n",
    "    u\"\\(\\^o\\^\\)／\":\"Joyful\",\n",
    "    u\"\\(__\\)\":\"Kowtow as a sign of respect, or dogeza for apology\",\n",
    "    u\"_\\(\\._\\.\\)_\":\"Kowtow as a sign of respect, or dogeza for apology\",\n",
    "    u\"<\\(_ _\\)>\":\"Kowtow as a sign of respect, or dogeza for apology\",\n",
    "    u\"<m\\(__\\)m>\":\"Kowtow as a sign of respect, or dogeza for apology\",\n",
    "    u\"m\\(__\\)m\":\"Kowtow as a sign of respect, or dogeza for apology\",\n",
    "    u\"m\\(_ _\\)m\":\"Kowtow as a sign of respect, or dogeza for apology\",\n",
    "    u\"\\('_'\\)\":\"Sad or Crying\",\n",
    "    u\"\\(/_;\\)\":\"Sad or Crying\",\n",
    "    u\"\\(T_T\\) \\(;_;\\)\":\"Sad or Crying\",\n",
    "    u\"\\(;_;\":\"Sad of Crying\",\n",
    "    u\"\\(;_:\\)\":\"Sad or Crying\",\n",
    "    u\"\\(;O;\\)\":\"Sad or Crying\",\n",
    "    u\"\\(:_;\\)\":\"Sad or Crying\",\n",
    "    u\"\\(ToT\\)\":\"Sad or Crying\",\n",
    "    u\";_;\":\"Sad or Crying\",\n",
    "    u\";-;\":\"Sad or Crying\",\n",
    "    u\";n;\":\"Sad or Crying\",\n",
    "    u\";;\":\"Sad or Crying\",\n",
    "    u\"Q\\.Q\":\"Sad or Crying\",\n",
    "    u\"T\\.T\":\"Sad or Crying\",\n",
    "    u\"QQ\":\"Sad or Crying\",\n",
    "    u\"Q_Q\":\"Sad or Crying\",\n",
    "    u\"\\(-\\.-\\)\":\"Shame\",\n",
    "    u\"\\(-_-\\)\":\"Shame\",\n",
    "    u\"\\(一一\\)\":\"Shame\",\n",
    "    u\"\\(；一_一\\)\":\"Shame\",\n",
    "    u\"\\(=_=\\)\":\"Tired\",\n",
    "    u\"\\(=\\^\\·\\^=\\)\":\"cat\",\n",
    "    u\"\\(=\\^\\·\\·\\^=\\)\":\"cat\",\n",
    "    u\"=_\\^=\t\":\"cat\",\n",
    "    u\"\\(\\.\\.\\)\":\"Looking down\",\n",
    "    u\"\\(\\._\\.\\)\":\"Looking down\",\n",
    "    u\"\\^m\\^\":\"Giggling with hand covering mouth\",\n",
    "    u\"\\(\\・\\・?\":\"Confusion\",\n",
    "    u\"\\(?_?\\)\":\"Confusion\",\n",
    "    u\">\\^_\\^<\":\"Normal Laugh\",\n",
    "    u\"<\\^!\\^>\":\"Normal Laugh\",\n",
    "    u\"\\^/\\^\":\"Normal Laugh\",\n",
    "    u\"\\（\\*\\^_\\^\\*）\" :\"Normal Laugh\",\n",
    "    u\"\\(\\^<\\^\\) \\(\\^\\.\\^\\)\":\"Normal Laugh\",\n",
    "    u\"\\(^\\^\\)\":\"Normal Laugh\",\n",
    "    u\"\\(\\^\\.\\^\\)\":\"Normal Laugh\",\n",
    "    u\"\\(\\^_\\^\\.\\)\":\"Normal Laugh\",\n",
    "    u\"\\(\\^_\\^\\)\":\"Normal Laugh\",\n",
    "    u\"\\(\\^\\^\\)\":\"Normal Laugh\",\n",
    "    u\"\\(\\^J\\^\\)\":\"Normal Laugh\",\n",
    "    u\"\\(\\*\\^\\.\\^\\*\\)\":\"Normal Laugh\",\n",
    "    u\"\\(\\^—\\^\\）\":\"Normal Laugh\",\n",
    "    u\"\\(#\\^\\.\\^#\\)\":\"Normal Laugh\",\n",
    "    u\"\\（\\^—\\^\\）\":\"Waving\",\n",
    "    u\"\\(;_;\\)/~~~\":\"Waving\",\n",
    "    u\"\\(\\^\\.\\^\\)/~~~\":\"Waving\",\n",
    "    u\"\\(-_-\\)/~~~ \\($\\·\\·\\)/~~~\":\"Waving\",\n",
    "    u\"\\(T_T\\)/~~~\":\"Waving\",\n",
    "    u\"\\(ToT\\)/~~~\":\"Waving\",\n",
    "    u\"\\(\\*\\^0\\^\\*\\)\":\"Excited\",\n",
    "    u\"\\(\\*_\\*\\)\":\"Amazed\",\n",
    "    u\"\\(\\*_\\*;\":\"Amazed\",\n",
    "    u\"\\(\\+_\\+\\) \\(@_@\\)\":\"Amazed\",\n",
    "    u\"\\(\\*\\^\\^\\)v\":\"Laughing,Cheerful\",\n",
    "    u\"\\(\\^_\\^\\)v\":\"Laughing,Cheerful\",\n",
    "    u\"\\(\\(d[-_-]b\\)\\)\":\"Headphones,Listening to music\",\n",
    "    u'\\(-\"-\\)':\"Worried\",\n",
    "    u\"\\(ーー;\\)\":\"Worried\",\n",
    "    u\"\\(\\^0_0\\^\\)\":\"Eyeglasses\",\n",
    "    u\"\\(\\＾ｖ\\＾\\)\":\"Happy\",\n",
    "    u\"\\(\\＾ｕ\\＾\\)\":\"Happy\",\n",
    "    u\"\\(\\^\\)o\\(\\^\\)\":\"Happy\",\n",
    "    u\"\\(\\^O\\^\\)\":\"Happy\",\n",
    "    u\"\\(\\^o\\^\\)\":\"Happy\",\n",
    "    u\"\\)\\^o\\^\\(\":\"Happy\",\n",
    "    u\":O o_O\":\"Surprised\",\n",
    "    u\"o_0\":\"Surprised\",\n",
    "    u\"o\\.O\":\"Surpised\",\n",
    "    u\"\\(o\\.o\\)\":\"Surprised\",\n",
    "    u\"oO\":\"Surprised\",\n",
    "    u\"\\(\\*￣m￣\\)\":\"Dissatisfied\",\n",
    "    u\"\\(‘A`\\)\":\"Snubbed or Deflated\"\n",
    "}\n",
    "\n",
    "def seed_everything(SEED):\n",
    "    np.random.seed(SEED)\n",
    "    torch.manual_seed(SEED)\n",
    "    torch.cuda.manual_seed(SEED)\n",
    "    torch.backends.cudnn.deterministic = True\n",
    "    torch.backends.cudnn.benchmark = True\n",
    "\n",
    "def remove_punctuation(text, PUNCT_TO_REMOVE):\n",
    "    return text.translate(str.maketrans('', '', PUNCT_TO_REMOVE))\n",
    "\n",
    "def remove_stopwords(text, STOPWORDS):\n",
    "    return \" \".join([word for word in str(text).split() if word not in STOPWORDS])\n",
    "\n",
    "def remove_emoticons(text):\n",
    "    emoticon_pattern = re.compile(u'(' + u'|'.join(k for k in EMOTICONS) + u')')\n",
    "    return emoticon_pattern.sub(r'', text)\n",
    "    \n",
    "def remove_emoji(string):\n",
    "    emoji_pattern = re.compile(\"[\"\n",
    "                           u\"\\U0001F600-\\U0001F64F\"  # emoticons\n",
    "                           u\"\\U0001F300-\\U0001F5FF\"  # symbols & pictographs\n",
    "                           u\"\\U0001F680-\\U0001F6FF\"  # transport & map symbols\n",
    "                           u\"\\U0001F1E0-\\U0001F1FF\"  # flags (iOS)\n",
    "                           u\"\\U00002702-\\U000027B0\"\n",
    "                           u\"\\U000024C2-\\U0001F251\"\n",
    "                           \"]+\", flags=re.UNICODE)\n",
    "    return emoji_pattern.sub(r'', string)\n",
    "\n",
    "def sigmoid(x):\n",
    "    return 1 / (1 + np.exp(-x))\n",
    "\n",
    "def add_tail_padding(series, tokenizer, max_sequence_length):\n",
    "    eos_id = 2\n",
    "    pad_id = 1\n",
    "    outputs = []\n",
    "    outputs = np.zeros((len(series), max_sequence_length))\n",
    "    for idx, row in enumerate(series): \n",
    "        input_ids = tokenizer.encode(row)\n",
    "        if len(input_ids) > max_sequence_length: \n",
    "            input_ids = input_ids[:max_sequence_length] \n",
    "            input_ids[-1] = eos_id\n",
    "        else:\n",
    "            input_ids = input_ids + [pad_id, ]*(max_sequence_length - len(input_ids))\n",
    "        outputs[idx,:] = np.array(input_ids)\n",
    "    return outputs\n",
    "\n",
    "def add_tail_padding_text(text, tokenizer, max_sequence_length):\n",
    "    eos_id = 2\n",
    "    pad_id = 1\n",
    "    outputs = []\n",
    "    # outputs = np.zeros((len(series), max_sequence_length))\n",
    "    # for idx, row in enumerate(text): \n",
    "    input_ids = tokenizer.encode(text)\n",
    "    if len(input_ids) > max_sequence_length: \n",
    "        input_ids = input_ids[:max_sequence_length] \n",
    "        input_ids[-1] = eos_id\n",
    "    else:\n",
    "        input_ids = input_ids + [pad_id, ]*(max_sequence_length - len(input_ids))\n",
    "    # outputs[idx,:] = np.array(input_ids)\n",
    "    return input_ids\n",
    "\n",
    "def add_head_padding(series, tokenizer, max_sequence_length):\n",
    "    eos_id = 2\n",
    "    pad_id = 1\n",
    "    outputs = []\n",
    "    outputs = np.zeros((len(series), max_sequence_length))\n",
    "    for idx, row in enumerate(series): \n",
    "        input_ids = tokenizer.encode(row)\n",
    "        if len(input_ids) > max_sequence_length: \n",
    "            input_ids = input_ids[len(input_ids) - (max_sequence_length - 1):]\n",
    "            input_ids.append(eos_id)\n",
    "        else:\n",
    "            input_ids = input_ids + [pad_id, ]*(max_sequence_length - len(input_ids))\n",
    "        outputs[idx,:] = np.array(input_ids)\n",
    "    return outputs\n",
    "\n",
    "def convert_to_feature(series, tokenizer, max_sequence_length, head = False):\n",
    "    if not head:\n",
    "        outputs = add_tail_padding(series, tokenizer, max_sequence_length)\n",
    "    else:\n",
    "        outputs = add_head_padding(series, tokenizer, max_sequence_length)\n",
    "    return outputs\n",
    "\n",
    "def remove_long_word(text):\n",
    "    return re.sub(r'([A-Z])\\1+', lambda m: m.group(1).lower(), text, flags=re.IGNORECASE)\n",
    "\n",
    "def text_cleaner(review):\n",
    "    review = review.replace('\\n', ' ')\n",
    "    review = review.replace('.', '. ')\n",
    "    review = review.replace('-', ' ')\n",
    "    review = review.replace('Pig c', 'Big C')\n",
    "    review = review.replace('ks', 'khách sạn')\n",
    "    review = review.replace('đt', 'điện thoại')\n",
    "    review = review.replace('vsinh', 'vệ sinh')\n",
    "    review = review.replace('sđt', 'số điện thoại')\n",
    "    review = review.replace('QN', 'Quy Nhơn')\n",
    "    review = review.replace('vs', 'với')\n",
    "    review = review.replace('phcu5', 'phục')\n",
    "    review = review.replace('lém', 'lắm')\n",
    "    # review = review.replace('fb', 'facebook')\n",
    "    review = review.replace('5sao', '5 sao')\n",
    "    review = review.replace('TP', 'thành phố')\n",
    "    review = review.replace('tp', 'thành phố')\n",
    "    review = review.replace('Tp', 'thành phố')\n",
    "    review = review.replace(' 000', '000')\n",
    "    review = review.replace('HN', 'Hà Nội')\n",
    "    review = review.replace('Dzô', 'vô')\n",
    "    review = review.replace(' ni ', ' này ')\n",
    "    review = review.replace('19 k', '19k')\n",
    "    review = review.replace('cf', 'coffee')\n",
    "    review = review.replace(' h ', ' giờ ')\n",
    "    review = review.replace('coffe', 'coffee')\n",
    "    review = review.replace('tiaafn', 'tuần')\n",
    "    review = review.replace('thíh', 'thích')\n",
    "    review = review.replace('viawf', 'vừa')\n",
    "    review = review.replace('reccomend', 'recommend')\n",
    "    review = review.replace('qá', 'quá')\n",
    "    review = review.replace('zễ', 'dễ')\n",
    "    review = review.replace('tưoi', 'tươi')\n",
    "    # review = review.replace(' k ', ' không ')\n",
    "    review = review.replace('sbay', 'sân bay')\n",
    "    # review = review.replace(' đ ', ' đồng ')\n",
    "    review = review.replace(' a ', ' anh ')\n",
    "    review = review.replace('zể', 'dễ')\n",
    "    review = review.replace('<3', '')\n",
    "    review = review.replace('cới', 'cái')\n",
    "    review = review.replace(' r ', ' rồi ')\n",
    "    review = review.replace('ncl', 'nói chung là')\n",
    "    review = review.replace('lê tân', 'lễ tân')\n",
    "    review = review.replace('nèeee', 'nè')\n",
    "    review = review.replace('hay nan', 'hãy nán')\n",
    "    review = review.replace('vnđ', 'việt nam đồng')\n",
    "    review = review.replace(' oto ', 'ô tô')\n",
    "    review = review.replace('trung tân', 'trung tâm')\n",
    "    review = review.replace('bsang', 'buổi sáng')\n",
    "    review = review.replace('dim sum', 'dimsum')\n",
    "    review = review.replace('đubgs', 'đúng')\n",
    "    review = review.replace('vói', 'với')\n",
    "    review = review.replace('rata', 'rất')\n",
    "    review = review.replace('nưa', 'nữa')\n",
    "    review = review.replace('mk', 'mình')\n",
    "    review = review.replace('thik', 'thích')\n",
    "    review = review.replace(' ak ', ' à ')\n",
    "    review = review.replace('lagu', 'lẩu')\n",
    "    review = review.replace('kco', 'không có')\n",
    "    review = review.replace('xug', 'xung')\n",
    "    review = review.replace('gthieu', 'giới thiệu')\n",
    "    review = review.replace('ík', 'ý')\n",
    "    review = review.replace('ngonnn', 'ngon')\n",
    "    review = review.replace('vang tau', 'Vũng Tàu')\n",
    "    review = review.replace('hanghf', 'hàng')\n",
    "    review = review.replace('dứoi', 'dưới')\n",
    "    review = review.replace('thàn', 'thành')\n",
    "    review = review.replace('dàii', 'dài')\n",
    "    review = review.replace('hơnn', 'hơn')\n",
    "    review = review.replace('banf', 'bàn')\n",
    "    review = review.replace('tụe', 'tự')\n",
    "    review = review.replace(' od ', ' order ')\n",
    "    review = review.replace('rấtttt', 'rất')\n",
    "    review = review.replace('nhiệtt', 'nhiệt')\n",
    "    review = review.replace('thig', 'thì')\n",
    "    review = review.replace('niawx', 'nữa')\n",
    "    review = review.replace('thoid', 'thói')\n",
    "    review = review.replace('khanggggg', 'khang')\n",
    "    review = review.replace('trangggg', 'trang')\n",
    "    review = review.replace('cảh', 'cả')\n",
    "    review = review.replace('ltinh', 'linh tinh')\n",
    "    review = review.replace('nợi', 'nơi')\n",
    "    review = review.replace('nới', 'nơi')\n",
    "    review = review.replace('tôt', 'tốt')\n",
    "    review = review.replace('vuii', 'vui')\n",
    "    review = review.replace('lạisau', 'lại sau')\n",
    "    review = review.replace(' cx ', ' cũng ')\n",
    "    review = review.replace(' luac ', ' lúc ')\n",
    "    review = review.replace('hiẹu', 'hiệu')\n",
    "    review = review.replace('ctac', 'công tác')\n",
    "    review = review.replace('veiw', 'view')\n",
    "    review = review.replace('trog', 'trong')\n",
    "    review = review.replace(' thíc ', ' thích ')\n",
    "    review = review.replace(' cacs ', ' các ')\n",
    "    review = review.replace(' gogle ', ' google ')\n",
    "    review = review.replace(' lăms ', ' lắm ')\n",
    "    review = review.replace(' chil ', ' chill ')\n",
    "    review = review.replace('thànhhh', 'thành')\n",
    "    review = review.replace(' fb ', ' facebook ')\n",
    "    review = review.replace(' ko ', ' không ')\n",
    "    review = review.replace(' coffeeee ', ' coffee ')\n",
    "    review = review.replace(' coffeee ', ' coffee ')\n",
    "    review = review.replace(' coffeeeee ', ' coffee ')\n",
    "    review = review.replace(' 40ng ', ' 40 người ')\n",
    "    review = review.replace(' j ', ' gì ')\n",
    "    review = review.replace(' tv ', ' tivi ')\n",
    "    review = review.replace(' cg ', ' cũng ')\n",
    "    review = review.replace(' bik ', ' biết ')\n",
    "    review = review.replace(' đg ', ' đường ')\n",
    "    review = remove_emoji(review)\n",
    "    review = remove_emoticons(review)\n",
    "    # review = remove_long_word(review) // bị sai\n",
    "    # review = '<s> '+ review +' </s>'\n",
    "    # review = review.lower()\n",
    "    # review = re.sub(r'[^\\w\\s]', '', review)\n",
    "    review = re.sub(\"\\s\\s+\" , \" \", review)\n",
    "    # review = re.sub(\"(\\D) k \" , \"\\\\1 không \", review)\n",
    "    # review = re.sub(\"([0-9]) k \" , \"\\\\1 nghìn \", review)\n",
    "    # review = re.sub(\"([0-9]) đ \" , \"\\\\1 nghìn \", review)\n",
    "    # review = re.sub(\"([0-9])k \" , \"\\\\1 nghìn \", review)\n",
    "    review = review.strip()\n",
    "    return review\n",
    "\n",
    "def load_state_dict(model, checkpoint):\n",
    "    new_state_dict = OrderedDict()\n",
    "    for k, v in checkpoint.items():\n",
    "        name = k.replace(\"module.\", \"\")\n",
    "        new_state_dict[name] = v\n",
    "    model.load_state_dict(new_state_dict)\n",
    "\n",
    "def flat_accuracy(preds, labels):\n",
    "    pred_flat = np.argmax(preds, axis=1).flatten()\n",
    "    labels_flat = labels.flatten()\n",
    "    return np.sum(pred_flat == labels_flat) / len(labels_flat)\n",
    "\n",
    "def remove_freqwords(text, FREQWORDS):\n",
    "    return \" \".join([word for word in str(text).split() if word not in FREQWORDS])\n",
    "\n",
    "def remove_rarewords(text, RAREWORDS):\n",
    "    return \" \".join([word for word in str(text).split() if word not in RAREWORDS])\n",
    "\n",
    "def remove_space_between_numbers(text):\n",
    "    text = re.sub(r'(\\d)\\s+(\\d)', r'\\1\\2', text)\n",
    "    return text\n",
    "\n",
    "def get_new_labels(y):\n",
    "    y_new = LabelEncoder().fit_transform([''.join(str(l)) for l in y])\n",
    "    return y_new\n",
    "\n",
    "def r2_score_tmp(outputs, labels):\n",
    "    labels_mean = torch.mean(labels)\n",
    "    ss_tot = torch.sum((labels - labels_mean) ** 2)\n",
    "    ss_res = torch.sum((labels - outputs) ** 2)\n",
    "    r2 = 1 - ss_res / ss_tot\n",
    "    return r2"
   ]
  },
  {
   "cell_type": "code",
   "execution_count": 9,
   "metadata": {},
   "outputs": [
    {
     "data": {
      "text/plain": [
       "'nèe'"
      ]
     },
     "execution_count": 9,
     "metadata": {},
     "output_type": "execute_result"
    }
   ],
   "source": [
    "import re\n",
    "import string\n",
    "def remove_long_word(text):\n",
    "    return re.sub(r'([A-Z])\\1+', lambda m: m.group(1).lower(), text, flags=re.IGNORECASE)\n",
    "# def text_cleaner(review):\n",
    "#     review = review.replace('\\n', ' ')\n",
    "#     review = review.replace('-', ' ')\n",
    "#     review = review.replace('.', '')\n",
    "#     review = re.sub(\"\\s\\s+\" , \" \", review)\n",
    "#     # review = re.sub(r'[^\\w\\s]', '', review)\n",
    "#     review = review.strip()\n",
    "#     review = review.lower()\n",
    "#     return review\n",
    "remove_long_word(\"nèeee\")"
   ]
  },
  {
   "cell_type": "code",
   "execution_count": 10,
   "metadata": {},
   "outputs": [],
   "source": [
    "PUNCT_TO_REMOVE = '!\"#$%&\\'()*+,-./:;<=>?@[\\\\]^`{|}~’‘——“”'\n",
    "x_train_cp = x_train.map(text_cleaner)\n",
    "x_test_cp = x_test.map(text_cleaner)\n",
    "x_train_cp = x_train_cp.apply(lambda x: remove_punctuation(x, PUNCT_TO_REMOVE))\n",
    "x_test_cp = x_test_cp.apply(lambda x: remove_punctuation(x, PUNCT_TO_REMOVE))\n",
    "x_train_cp = x_train_cp.apply(lambda x: x.lower())\n",
    "x_test_cp = x_test_cp.apply(lambda x: x.lower())\n",
    "x_train_cp = x_train_cp.map(text_cleaner)\n",
    "x_test_cp = x_test_cp.map(text_cleaner)"
   ]
  },
  {
   "cell_type": "code",
   "execution_count": 50,
   "metadata": {},
   "outputs": [],
   "source": [
    "from collections import Counter\n",
    "cnt = Counter()\n",
    "for text in x_train_cp.values:\n",
    "    for word in text.split():\n",
    "        cnt[word] += 1\n",
    "FREQWORDS = set([\"nên\", \"và\", \"có\", \"mình\", \"rất\", \"là\", \"thì\", \"cho\", \"cũng\", \"với\"])\n",
    "RAREWORDS = set([w for (w, wc) in cnt.most_common() if wc < 2])"
   ]
  },
  {
   "cell_type": "code",
   "execution_count": 51,
   "metadata": {},
   "outputs": [],
   "source": [
    "with open(r'data/freq.txt', 'w', encoding='utf-8') as fp:\n",
    "    for item in FREQWORDS:\n",
    "        fp.write(\"%s\\n\" % item)\n",
    "with open(r'data/rare.txt', 'w', encoding='utf-8') as fp1:\n",
    "    for item in RAREWORDS:\n",
    "        fp1.write(\"%s\\n\" % item)"
   ]
  },
  {
   "cell_type": "code",
   "execution_count": 52,
   "metadata": {},
   "outputs": [],
   "source": [
    "x_train_cp = x_train_cp.apply(lambda x : remove_freqwords(x, FREQWORDS))\n",
    "x_train_cp = x_train_cp.apply(lambda x : remove_rarewords(x, RAREWORDS))\n",
    "x_test_cp = x_test_cp.apply(lambda x : remove_freqwords(x, FREQWORDS))\n",
    "x_test_cp = x_test_cp.apply(lambda x : remove_rarewords(x, RAREWORDS))"
   ]
  },
  {
   "cell_type": "code",
   "execution_count": 10,
   "metadata": {},
   "outputs": [],
   "source": [
    "x_train_cp = x_train\n",
    "x_test_cp = x_test"
   ]
  },
  {
   "cell_type": "code",
   "execution_count": 11,
   "metadata": {},
   "outputs": [
    {
     "data": {
      "text/plain": [
       "2955                        mọi thứ quá ok so với tầm giá\n",
       "2956                   nhân viên thân thiện giá cả hợp lý\n",
       "2957    chợ đồ ăn vặt lớn ở miền trung việt nam gần ga...\n",
       "2958    có công việc gần nó nên mình tranh thủ cùng đá...\n",
       "2959    quán cà phê theo phong cách cổ điển dành cho n...\n",
       "Name: Review, dtype: object"
      ]
     },
     "execution_count": 11,
     "metadata": {},
     "output_type": "execute_result"
    }
   ],
   "source": [
    "x_test_cp.head()"
   ]
  },
  {
   "cell_type": "code",
   "execution_count": 20,
   "metadata": {},
   "outputs": [],
   "source": [
    "vectorizer = TfidfVectorizer(ngram_range=(1, 2), max_df=0.5, max_features=5000)\n",
    "X = vectorizer.fit_transform(x_train_cp)\n",
    "y = vectorizer.transform(x_test_cp)"
   ]
  },
  {
   "cell_type": "code",
   "execution_count": 22,
   "metadata": {},
   "outputs": [
    {
     "data": {
      "text/plain": [
       "(4000,)"
      ]
     },
     "execution_count": 22,
     "metadata": {},
     "output_type": "execute_result"
    }
   ],
   "source": [
    "vectorizer.get_feature_names_out().shape"
   ]
  },
  {
   "cell_type": "code",
   "execution_count": 23,
   "metadata": {},
   "outputs": [],
   "source": [
    "train_texts=pd.DataFrame(X.toarray(),columns=vectorizer.get_feature_names_out())\n",
    "test_texts=pd.DataFrame(y.toarray(),columns=vectorizer.get_feature_names_out())"
   ]
  },
  {
   "cell_type": "code",
   "execution_count": 51,
   "metadata": {},
   "outputs": [],
   "source": [
    "from sklearn.decomposition import PCA\n",
    "pca = PCA(n_components=300)\n",
    "train_texts = pca.fit_transform(train_texts)\n",
    "test_texts = pca.transform(test_texts)"
   ]
  },
  {
   "cell_type": "code",
   "execution_count": 24,
   "metadata": {},
   "outputs": [],
   "source": [
    "from sklearn.preprocessing import MinMaxScaler\n",
    "scaler = MinMaxScaler()\n",
    "train_texts_scale = scaler.fit_transform(train_texts)\n",
    "test_texts_scale = scaler.transform(test_texts)"
   ]
  },
  {
   "cell_type": "code",
   "execution_count": 33,
   "metadata": {},
   "outputs": [
    {
     "data": {
      "text/plain": [
       "DecisionTreeRegressor(random_state=0)"
      ]
     },
     "execution_count": 33,
     "metadata": {},
     "output_type": "execute_result"
    }
   ],
   "source": [
    "from sklearn.tree import DecisionTreeRegressor\n",
    "regressor = DecisionTreeRegressor(random_state=0)\n",
    "regressor.fit(train_texts_scale, y_train_a1)\n"
   ]
  },
  {
   "cell_type": "code",
   "execution_count": 13,
   "metadata": {},
   "outputs": [],
   "source": [
    "#########################\n",
    "from sklearn.pipeline import Pipeline\n",
    "from sklearn.feature_extraction.text import TfidfVectorizer\n",
    "from sklearn.ensemble import RandomForestRegressor\n",
    "from sklearn.tree import DecisionTreeRegressor\n",
    "from sklearn.preprocessing import MinMaxScaler\n",
    "from sklearn.metrics import mean_squared_error\n",
    "from sklearn.multioutput import MultiOutputRegressor\n",
    "import xgboost as xgb\n",
    "\n"
   ]
  },
  {
   "cell_type": "code",
   "execution_count": 18,
   "metadata": {},
   "outputs": [
    {
     "data": {
      "text/plain": [
       "Pipeline(steps=[('Tfidf',\n",
       "                 TfidfVectorizer(max_df=0.5, max_features=4000,\n",
       "                                 ngram_range=(1, 2))),\n",
       "                ('classifier',\n",
       "                 MultiOutputRegressor(estimator=XGBRegressor(base_score=None,\n",
       "                                                             booster=None,\n",
       "                                                             callbacks=None,\n",
       "                                                             colsample_bylevel=None,\n",
       "                                                             colsample_bynode=None,\n",
       "                                                             colsample_bytree=0.8,\n",
       "                                                             early_stopping_rounds=None,\n",
       "                                                             enable_categorical=False,\n",
       "                                                             eta=0.1,\n",
       "                                                             eval_metric=None,\n",
       "                                                             gamma=None,\n",
       "                                                             gpu_id=None,\n",
       "                                                             grow_policy=None,\n",
       "                                                             importance_type=None,\n",
       "                                                             interaction_constraints=None,\n",
       "                                                             learning_rate=None,\n",
       "                                                             max_bin=None,\n",
       "                                                             max_cat_to_onehot=None,\n",
       "                                                             max_delta_step=None,\n",
       "                                                             max_depth=7,\n",
       "                                                             max_leaves=None,\n",
       "                                                             min_child_weight=None,\n",
       "                                                             missing=nan,\n",
       "                                                             monotone_constraints=None,\n",
       "                                                             n_estimators=1000,\n",
       "                                                             n_jobs=None,\n",
       "                                                             num_parallel_tree=None,\n",
       "                                                             predictor=None,\n",
       "                                                             random_state=0,\n",
       "                                                             reg_alpha=None, ...)))])"
      ]
     },
     "execution_count": 18,
     "metadata": {},
     "output_type": "execute_result"
    }
   ],
   "source": [
    "\n",
    "# completed_pl = Pipeline([\n",
    "#     ('Tfidf', TfidfVectorizer(ngram_range=(1, 3), max_df=0.5, max_features=5000)),\n",
    "#     # ('scale', MinMaxScaler()),\n",
    "#     (\"classifier\", MultiOutputRegressor(DecisionTreeRegressor(n_estimators=500, random_state=0)))\n",
    "# ])\n",
    "\n",
    "# completed_pl.fit(x_train_cp, y_train)\n",
    "\n",
    "completed_pl = Pipeline([\n",
    "    ('Tfidf', TfidfVectorizer(ngram_range=(1, 2), max_df=0.5, max_features=4000)),\n",
    "    # ('scale', MinMaxScaler()),\n",
    "    (\"classifier\", MultiOutputRegressor(xgb.XGBRegressor(n_estimators=1000, max_depth=7, eta=0.1, subsample=0.7, colsample_bytree=0.8, random_state=0)))\n",
    "])\n",
    "\n",
    "completed_pl.fit(x_train_cp, y_train)"
   ]
  },
  {
   "cell_type": "code",
   "execution_count": 16,
   "metadata": {},
   "outputs": [
    {
     "name": "stdout",
     "output_type": "stream",
     "text": [
      "R-squared: 0.048687478182758225\n",
      "MSE:  2.007787630741246\n",
      "RMSE:  1.4169642305793206\n"
     ]
    }
   ],
   "source": [
    "score = completed_pl.score(x_test_cp, y_test)\n",
    "print(\"R-squared:\", score)\n",
    "ypred = completed_pl.predict(x_test_cp)\n",
    "mse = mean_squared_error(y_test, ypred)\n",
    "print(\"MSE: \", mse)\n",
    "print(\"RMSE: \", mse**(1/2.0)) "
   ]
  },
  {
   "cell_type": "code",
   "execution_count": 34,
   "metadata": {},
   "outputs": [],
   "source": [
    "test = set(line.strip() for line in open('data/freq.txt', 'r', encoding='utf-8'))"
   ]
  },
  {
   "cell_type": "code",
   "execution_count": 35,
   "metadata": {},
   "outputs": [
    {
     "data": {
      "text/plain": [
       "{'cho', 'có', 'cũng', 'là', 'mình', 'nên', 'rất', 'thì', 'và', 'với'}"
      ]
     },
     "execution_count": 35,
     "metadata": {},
     "output_type": "execute_result"
    }
   ],
   "source": [
    "test"
   ]
  },
  {
   "cell_type": "code",
   "execution_count": 16,
   "metadata": {},
   "outputs": [],
   "source": [
    "import pickle\n",
    "filename = 'finalized_model.sav'\n",
    "pickle.dump(completed_pl, open(filename, 'wb'))"
   ]
  },
  {
   "cell_type": "code",
   "execution_count": 37,
   "metadata": {},
   "outputs": [
    {
     "name": "stdout",
     "output_type": "stream",
     "text": [
      "Pipeline(steps=[('Tfidf',\n",
      "                 TfidfVectorizer(max_df=0.5, max_features=4000,\n",
      "                                 ngram_range=(1, 2))),\n",
      "                ('classifier',\n",
      "                 MultiOutputRegressor(estimator=XGBRegressor(base_score=None,\n",
      "                                                             booster=None,\n",
      "                                                             callbacks=None,\n",
      "                                                             colsample_bylevel=None,\n",
      "                                                             colsample_bynode=None,\n",
      "                                                             colsample_bytree=0.8,\n",
      "                                                             early_stopping_rounds=None,\n",
      "                                                             enable_categorical=False,\n",
      "                                                             eta=0.1,\n",
      "                                                             eval_metric=None,\n",
      "                                                             gamma=None,\n",
      "                                                             gpu_id=None,\n",
      "                                                             grow_policy=None,\n",
      "                                                             importance_type=None,\n",
      "                                                             interaction_constraints=None,\n",
      "                                                             learning_rate=None,\n",
      "                                                             max_bin=None,\n",
      "                                                             max_cat_to_onehot=None,\n",
      "                                                             max_delta_step=None,\n",
      "                                                             max_depth=7,\n",
      "                                                             max_leaves=None,\n",
      "                                                             min_child_weight=None,\n",
      "                                                             missing=nan,\n",
      "                                                             monotone_constraints=None,\n",
      "                                                             n_estimators=1000,\n",
      "                                                             n_jobs=None,\n",
      "                                                             num_parallel_tree=None,\n",
      "                                                             predictor=None,\n",
      "                                                             random_state=0,\n",
      "                                                             reg_alpha=None, ...)))])\n"
     ]
    }
   ],
   "source": [
    "filename = 'submit/finalized_model.sav'\n",
    "loaded_model = pickle.load(open(filename, 'rb'))\n",
    "print(loaded_model)"
   ]
  },
  {
   "cell_type": "code",
   "execution_count": 59,
   "metadata": {},
   "outputs": [
    {
     "data": {
      "text/plain": [
       "array([[0, 4, 0, 0, 0, 0],\n",
       "       [0, 0, 0, 0, 0, 5],\n",
       "       [0, 0, 0, 4, 0, 0],\n",
       "       ...,\n",
       "       [0, 5, 0, 0, 0, 0],\n",
       "       [1, 0, 0, 0, 0, 0],\n",
       "       [0, 0, 0, 0, 4, 0]], dtype=int64)"
      ]
     },
     "execution_count": 59,
     "metadata": {},
     "output_type": "execute_result"
    }
   ],
   "source": [
    "y_test.to_numpy()"
   ]
  },
  {
   "cell_type": "code",
   "execution_count": 17,
   "metadata": {},
   "outputs": [
    {
     "data": {
      "text/plain": [
       "array([[0., 4., 0., 0., 0., 0.],\n",
       "       [0., 0., 0., 0., 0., 5.],\n",
       "       [0., 0., 0., 4., 0., 0.],\n",
       "       ...,\n",
       "       [0., 5., 0., 0., 0., 0.],\n",
       "       [1., 0., 0., 0., 0., 0.],\n",
       "       [0., 0., 0., 0., 4., 0.]])"
      ]
     },
     "execution_count": 17,
     "metadata": {},
     "output_type": "execute_result"
    }
   ],
   "source": [
    "ypred"
   ]
  },
  {
   "cell_type": "code",
   "execution_count": 35,
   "metadata": {},
   "outputs": [
    {
     "name": "stdout",
     "output_type": "stream",
     "text": [
      "R-squared: 1.0\n",
      "MSE:  0.0\n",
      "RMSE:  0.0\n"
     ]
    }
   ],
   "source": [
    "from sklearn.metrics import mean_squared_error\n",
    "score = regressor.score(train_texts_scale, y_train_a1)\n",
    "print(\"R-squared:\", score)\n",
    "ypred = regressor.predict(test_texts_scale)\n",
    "mse = mean_squared_error(y_test_a1, ypred)\n",
    "print(\"MSE: \", mse)\n",
    "print(\"RMSE: \", mse**(1/2.0)) "
   ]
  },
  {
   "cell_type": "code",
   "execution_count": 25,
   "metadata": {},
   "outputs": [
    {
     "name": "stdout",
     "output_type": "stream",
     "text": [
      "F1 score on train set 0.9761029411764706\n",
      "F1 score on test set 0.9732620320855615\n"
     ]
    }
   ],
   "source": [
    "xgboost = XGBClassifier(max_depth=5, n_estimators=500, learning_rate=0.1)\n",
    "xgboost.fit(train_texts_scale, y_train_a0)\n",
    "train_results=xgboost.predict(train_texts_scale)\n",
    "test_results=xgboost.predict(test_texts_scale)\n",
    "f1_train=f1_score(y_train_a0, train_results)\n",
    "print(f'F1 score on train set {f1_train}')\n",
    "f1_test=f1_score(y_test_a0, test_results)\n",
    "print(f'F1 score on test set {f1_test}')"
   ]
  },
  {
   "cell_type": "code",
   "execution_count": 47,
   "metadata": {},
   "outputs": [
    {
     "name": "stdout",
     "output_type": "stream",
     "text": [
      "              precision    recall  f1-score   support\n",
      "\n",
      "           0       1.00      0.98      0.99      2549\n",
      "           1       0.88      1.00      0.93       406\n",
      "\n",
      "    accuracy                           0.98      2955\n",
      "   macro avg       0.94      0.99      0.96      2955\n",
      "weighted avg       0.98      0.98      0.98      2955\n",
      "\n"
     ]
    }
   ],
   "source": [
    "from sklearn.metrics import accuracy_score, precision_score, classification_report, confusion_matrix\n",
    "print(classification_report(train_results, y_train_a0))"
   ]
  },
  {
   "cell_type": "code",
   "execution_count": 102,
   "metadata": {},
   "outputs": [
    {
     "name": "stdout",
     "output_type": "stream",
     "text": [
      "F1 score on train set 1.0\n",
      "F1 score on test set 0.3563218390804597\n"
     ]
    }
   ],
   "source": [
    "from sklearn.svm import LinearSVC\n",
    "linear = LinearSVC()\n",
    "linear.fit(train_texts_scale, y_train_a0)\n",
    "train_results=linear.predict(train_texts_scale)\n",
    "test_results=linear.predict(test_texts_scale)\n",
    "f1_train=f1_score(y_train_a0, train_results)\n",
    "print(f'F1 score on train set {f1_train}')\n",
    "f1_test=f1_score(y_test_a0, test_results)\n",
    "print(f'F1 score on test set {f1_test}')"
   ]
  },
  {
   "cell_type": "code",
   "execution_count": null,
   "metadata": {},
   "outputs": [],
   "source": []
  },
  {
   "cell_type": "code",
   "execution_count": 27,
   "metadata": {},
   "outputs": [],
   "source": [
    "import xgboost as xgb\n",
    "from sklearn.datasets import make_multilabel_classification\n",
    "from sklearn.model_selection import train_test_split\n",
    "from sklearn.multioutput import MultiOutputClassifier\n",
    "from sklearn.metrics import accuracy_score\n",
    "from sklearn.datasets import load_linnerud\n",
    "# create sample dataset\n",
    "X, y = load_linnerud(return_X_y=True)"
   ]
  },
  {
   "cell_type": "code",
   "execution_count": 111,
   "metadata": {},
   "outputs": [],
   "source": [
    "xgb_estimator = xgb.XGBClassifier(objective='binary:logistic')\n",
    "multilabel_model = MultiOutputClassifier(xgb_estimator)\n",
    "multilabel_model.fit(train_texts_scale, y_train)\n",
    "train_results=multilabel_model.predict(train_texts_scale)\n",
    "test_results=multilabel_model.predict(test_texts_scale)\n",
    "# f1_train=f1_score(y_train_a0, train_results)\n",
    "# print(f'F1 score on train set {f1_train}')\n",
    "# f1_test=f1_score(y_test_a0, test_results)\n",
    "# print(f'F1 score on test set {f1_test}')"
   ]
  },
  {
   "cell_type": "code",
   "execution_count": 114,
   "metadata": {},
   "outputs": [
    {
     "data": {
      "text/html": [
       "<div>\n",
       "<style scoped>\n",
       "    .dataframe tbody tr th:only-of-type {\n",
       "        vertical-align: middle;\n",
       "    }\n",
       "\n",
       "    .dataframe tbody tr th {\n",
       "        vertical-align: top;\n",
       "    }\n",
       "\n",
       "    .dataframe thead th {\n",
       "        text-align: right;\n",
       "    }\n",
       "</style>\n",
       "<table border=\"1\" class=\"dataframe\">\n",
       "  <thead>\n",
       "    <tr style=\"text-align: right;\">\n",
       "      <th></th>\n",
       "      <th>giai_tri</th>\n",
       "      <th>luu_tru</th>\n",
       "      <th>nha_hang</th>\n",
       "      <th>an_uong</th>\n",
       "      <th>di_chuyen</th>\n",
       "      <th>mua_sam</th>\n",
       "    </tr>\n",
       "  </thead>\n",
       "  <tbody>\n",
       "    <tr>\n",
       "      <th>2955</th>\n",
       "      <td>0</td>\n",
       "      <td>1</td>\n",
       "      <td>0</td>\n",
       "      <td>0</td>\n",
       "      <td>0</td>\n",
       "      <td>0</td>\n",
       "    </tr>\n",
       "    <tr>\n",
       "      <th>2956</th>\n",
       "      <td>0</td>\n",
       "      <td>0</td>\n",
       "      <td>0</td>\n",
       "      <td>0</td>\n",
       "      <td>0</td>\n",
       "      <td>1</td>\n",
       "    </tr>\n",
       "    <tr>\n",
       "      <th>2957</th>\n",
       "      <td>0</td>\n",
       "      <td>0</td>\n",
       "      <td>0</td>\n",
       "      <td>1</td>\n",
       "      <td>0</td>\n",
       "      <td>0</td>\n",
       "    </tr>\n",
       "    <tr>\n",
       "      <th>2958</th>\n",
       "      <td>0</td>\n",
       "      <td>0</td>\n",
       "      <td>0</td>\n",
       "      <td>1</td>\n",
       "      <td>0</td>\n",
       "      <td>0</td>\n",
       "    </tr>\n",
       "    <tr>\n",
       "      <th>2959</th>\n",
       "      <td>0</td>\n",
       "      <td>0</td>\n",
       "      <td>0</td>\n",
       "      <td>1</td>\n",
       "      <td>0</td>\n",
       "      <td>0</td>\n",
       "    </tr>\n",
       "    <tr>\n",
       "      <th>...</th>\n",
       "      <td>...</td>\n",
       "      <td>...</td>\n",
       "      <td>...</td>\n",
       "      <td>...</td>\n",
       "      <td>...</td>\n",
       "      <td>...</td>\n",
       "    </tr>\n",
       "    <tr>\n",
       "      <th>3683</th>\n",
       "      <td>0</td>\n",
       "      <td>0</td>\n",
       "      <td>0</td>\n",
       "      <td>1</td>\n",
       "      <td>0</td>\n",
       "      <td>0</td>\n",
       "    </tr>\n",
       "    <tr>\n",
       "      <th>3684</th>\n",
       "      <td>1</td>\n",
       "      <td>0</td>\n",
       "      <td>0</td>\n",
       "      <td>0</td>\n",
       "      <td>0</td>\n",
       "      <td>0</td>\n",
       "    </tr>\n",
       "    <tr>\n",
       "      <th>3685</th>\n",
       "      <td>0</td>\n",
       "      <td>1</td>\n",
       "      <td>0</td>\n",
       "      <td>0</td>\n",
       "      <td>0</td>\n",
       "      <td>0</td>\n",
       "    </tr>\n",
       "    <tr>\n",
       "      <th>3686</th>\n",
       "      <td>1</td>\n",
       "      <td>0</td>\n",
       "      <td>0</td>\n",
       "      <td>0</td>\n",
       "      <td>0</td>\n",
       "      <td>0</td>\n",
       "    </tr>\n",
       "    <tr>\n",
       "      <th>3687</th>\n",
       "      <td>0</td>\n",
       "      <td>0</td>\n",
       "      <td>0</td>\n",
       "      <td>0</td>\n",
       "      <td>1</td>\n",
       "      <td>0</td>\n",
       "    </tr>\n",
       "  </tbody>\n",
       "</table>\n",
       "<p>733 rows × 6 columns</p>\n",
       "</div>"
      ],
      "text/plain": [
       "      giai_tri  luu_tru  nha_hang  an_uong  di_chuyen  mua_sam\n",
       "2955         0        1         0        0          0        0\n",
       "2956         0        0         0        0          0        1\n",
       "2957         0        0         0        1          0        0\n",
       "2958         0        0         0        1          0        0\n",
       "2959         0        0         0        1          0        0\n",
       "...        ...      ...       ...      ...        ...      ...\n",
       "3683         0        0         0        1          0        0\n",
       "3684         1        0         0        0          0        0\n",
       "3685         0        1         0        0          0        0\n",
       "3686         1        0         0        0          0        0\n",
       "3687         0        0         0        0          1        0\n",
       "\n",
       "[733 rows x 6 columns]"
      ]
     },
     "execution_count": 114,
     "metadata": {},
     "output_type": "execute_result"
    }
   ],
   "source": [
    "y_test"
   ]
  },
  {
   "cell_type": "code",
   "execution_count": 123,
   "metadata": {},
   "outputs": [
    {
     "name": "stdout",
     "output_type": "stream",
     "text": [
      "F1 0: 0.88267\n",
      "F1 1: 0.95225\n",
      "F1 2: 0.91132\n",
      "F1 3: 0.90859\n",
      "F1 4: 0.93042\n",
      "F1 5: 0.95907\n"
     ]
    }
   ],
   "source": [
    "for i in range(6):\n",
    "    print('F1 {}: {:.5f}'.format(i, accuracy_score(y_test.to_numpy()[:, i], test_results[:, i])))"
   ]
  },
  {
   "cell_type": "code",
   "execution_count": null,
   "metadata": {},
   "outputs": [],
   "source": [
    "print('F1: {:.5f}'.format(accuracy_score(y_test.to_numpy()[:, 1], test_results[:, 0])))"
   ]
  },
  {
   "cell_type": "code",
   "execution_count": 117,
   "metadata": {},
   "outputs": [
    {
     "name": "stdout",
     "output_type": "stream",
     "text": [
      "Accuracy on test data: 65.5%\n"
     ]
    }
   ],
   "source": [
    "print('Accuracy on test data: {:.1f}%'.format(accuracy_score(y_test, test_results)*100))"
   ]
  }
 ],
 "metadata": {
  "kernelspec": {
   "display_name": "Python 3.9.12 ('base')",
   "language": "python",
   "name": "python3"
  },
  "language_info": {
   "codemirror_mode": {
    "name": "ipython",
    "version": 3
   },
   "file_extension": ".py",
   "mimetype": "text/x-python",
   "name": "python",
   "nbconvert_exporter": "python",
   "pygments_lexer": "ipython3",
   "version": "3.9.12"
  },
  "orig_nbformat": 4,
  "vscode": {
   "interpreter": {
    "hash": "aab775f315f07291ac78e503ba0b1ce073ccf4e9aea60cb38b3a09e3e6afb23b"
   }
  }
 },
 "nbformat": 4,
 "nbformat_minor": 2
}
