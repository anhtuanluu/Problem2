{
 "cells": [
  {
   "cell_type": "code",
   "execution_count": 1,
   "metadata": {},
   "outputs": [],
   "source": [
    "import pandas as pd\n",
    "import numpy as np\n",
    "data = pd.read_csv('data/data_final_problem2.csv')\n",
    "num = np.load('data/target.npy')\n"
   ]
  },
  {
   "cell_type": "code",
   "execution_count": 28,
   "metadata": {},
   "outputs": [],
   "source": [
    "from sklearn.metrics import mean_absolute_error, median_absolute_error, mean_squared_error, mean_absolute_percentage_error, r2_score\n",
    "num = np.array([[4,3]])\n",
    "num1 = np.array([[2,2]])"
   ]
  },
  {
   "cell_type": "code",
   "execution_count": 32,
   "metadata": {},
   "outputs": [
    {
     "data": {
      "text/plain": [
       "1.5"
      ]
     },
     "execution_count": 32,
     "metadata": {},
     "output_type": "execute_result"
    }
   ],
   "source": [
    "mean_absolute_error(num, num1)"
   ]
  },
  {
   "cell_type": "code",
   "execution_count": 9,
   "metadata": {},
   "outputs": [
    {
     "data": {
      "text/plain": [
       "array([[0, 0, 0, 5, 0, 0],\n",
       "       [0, 0, 0, 5, 0, 0],\n",
       "       [0, 0, 1, 1, 0, 0],\n",
       "       ...,\n",
       "       [0, 5, 0, 0, 0, 0],\n",
       "       [1, 0, 0, 0, 0, 0],\n",
       "       [0, 0, 0, 0, 4, 0]], dtype=int64)"
      ]
     },
     "execution_count": 9,
     "metadata": {},
     "output_type": "execute_result"
    }
   ],
   "source": [
    "num"
   ]
  },
  {
   "cell_type": "code",
   "execution_count": 2,
   "metadata": {},
   "outputs": [],
   "source": [
    "from sklearn.preprocessing import StandardScaler\n",
    "labels_scaler = StandardScaler()\n"
   ]
  },
  {
   "cell_type": "code",
   "execution_count": 5,
   "metadata": {},
   "outputs": [
    {
     "data": {
      "text/plain": [
       "StandardScaler()"
      ]
     },
     "execution_count": 5,
     "metadata": {},
     "output_type": "execute_result"
    }
   ],
   "source": [
    "labels_scaler.fit(num.reshape(-1, 1))"
   ]
  },
  {
   "cell_type": "code",
   "execution_count": 6,
   "metadata": {},
   "outputs": [],
   "source": [
    "train_labels = labels_scaler.transform(num.reshape(-1, 1))"
   ]
  },
  {
   "cell_type": "code",
   "execution_count": 8,
   "metadata": {},
   "outputs": [
    {
     "data": {
      "text/plain": [
       "array([[-0.45433378, -0.45433378, -0.45433378,  2.60125491, -0.45433378,\n",
       "        -0.45433378],\n",
       "       [-0.45433378, -0.45433378, -0.45433378,  2.60125491, -0.45433378,\n",
       "        -0.45433378],\n",
       "       [-0.45433378, -0.45433378,  0.15678396,  0.15678396, -0.45433378,\n",
       "        -0.45433378],\n",
       "       ...,\n",
       "       [-0.45433378,  2.60125491, -0.45433378, -0.45433378, -0.45433378,\n",
       "        -0.45433378],\n",
       "       [ 0.15678396, -0.45433378, -0.45433378, -0.45433378, -0.45433378,\n",
       "        -0.45433378],\n",
       "       [-0.45433378, -0.45433378, -0.45433378, -0.45433378,  1.99013717,\n",
       "        -0.45433378]])"
      ]
     },
     "execution_count": 8,
     "metadata": {},
     "output_type": "execute_result"
    }
   ],
   "source": [
    "train_labels.reshape(-1, 6)"
   ]
  },
  {
   "cell_type": "code",
   "execution_count": 3,
   "metadata": {},
   "outputs": [
    {
     "data": {
      "text/html": [
       "<div>\n",
       "<style scoped>\n",
       "    .dataframe tbody tr th:only-of-type {\n",
       "        vertical-align: middle;\n",
       "    }\n",
       "\n",
       "    .dataframe tbody tr th {\n",
       "        vertical-align: top;\n",
       "    }\n",
       "\n",
       "    .dataframe thead th {\n",
       "        text-align: right;\n",
       "    }\n",
       "</style>\n",
       "<table border=\"1\" class=\"dataframe\">\n",
       "  <thead>\n",
       "    <tr style=\"text-align: right;\">\n",
       "      <th></th>\n",
       "      <th>Review</th>\n",
       "      <th>giai_tri</th>\n",
       "      <th>luu_tru</th>\n",
       "      <th>nha_hang</th>\n",
       "      <th>an_uong</th>\n",
       "      <th>di_chuyen</th>\n",
       "      <th>mua_sam</th>\n",
       "    </tr>\n",
       "  </thead>\n",
       "  <tbody>\n",
       "    <tr>\n",
       "      <th>0</th>\n",
       "      <td>Bánh rất nhiều tôm to, tôm giòn nằm chễm chệ t...</td>\n",
       "      <td>0</td>\n",
       "      <td>0</td>\n",
       "      <td>0</td>\n",
       "      <td>5</td>\n",
       "      <td>0</td>\n",
       "      <td>0</td>\n",
       "    </tr>\n",
       "    <tr>\n",
       "      <th>1</th>\n",
       "      <td>Đi Quy Nhơn cứ lo không có pizza ăn nhưng nhờ ...</td>\n",
       "      <td>0</td>\n",
       "      <td>0</td>\n",
       "      <td>0</td>\n",
       "      <td>5</td>\n",
       "      <td>0</td>\n",
       "      <td>0</td>\n",
       "    </tr>\n",
       "    <tr>\n",
       "      <th>2</th>\n",
       "      <td>các món ăn ở đây không có gì đặc sắc, có lẽ nấ...</td>\n",
       "      <td>0</td>\n",
       "      <td>0</td>\n",
       "      <td>1</td>\n",
       "      <td>1</td>\n",
       "      <td>0</td>\n",
       "      <td>0</td>\n",
       "    </tr>\n",
       "    <tr>\n",
       "      <th>3</th>\n",
       "      <td>Lần thứ 2 quay lại đây, vì giới thiệu quán cà ...</td>\n",
       "      <td>0</td>\n",
       "      <td>0</td>\n",
       "      <td>0</td>\n",
       "      <td>2</td>\n",
       "      <td>0</td>\n",
       "      <td>0</td>\n",
       "    </tr>\n",
       "    <tr>\n",
       "      <th>4</th>\n",
       "      <td>Rất khuyên bạn nên ghé thăm quán bar thể thao này</td>\n",
       "      <td>3</td>\n",
       "      <td>0</td>\n",
       "      <td>0</td>\n",
       "      <td>0</td>\n",
       "      <td>0</td>\n",
       "      <td>0</td>\n",
       "    </tr>\n",
       "  </tbody>\n",
       "</table>\n",
       "</div>"
      ],
      "text/plain": [
       "                                              Review  giai_tri  luu_tru  \\\n",
       "0  Bánh rất nhiều tôm to, tôm giòn nằm chễm chệ t...         0        0   \n",
       "1  Đi Quy Nhơn cứ lo không có pizza ăn nhưng nhờ ...         0        0   \n",
       "2  các món ăn ở đây không có gì đặc sắc, có lẽ nấ...         0        0   \n",
       "3  Lần thứ 2 quay lại đây, vì giới thiệu quán cà ...         0        0   \n",
       "4  Rất khuyên bạn nên ghé thăm quán bar thể thao này         3        0   \n",
       "\n",
       "   nha_hang  an_uong  di_chuyen  mua_sam  \n",
       "0         0        5          0        0  \n",
       "1         0        5          0        0  \n",
       "2         1        1          0        0  \n",
       "3         0        2          0        0  \n",
       "4         0        0          0        0  "
      ]
     },
     "execution_count": 3,
     "metadata": {},
     "output_type": "execute_result"
    }
   ],
   "source": [
    "data.head()"
   ]
  },
  {
   "cell_type": "code",
   "execution_count": 13,
   "metadata": {},
   "outputs": [
    {
     "data": {
      "text/html": [
       "<div>\n",
       "<style scoped>\n",
       "    .dataframe tbody tr th:only-of-type {\n",
       "        vertical-align: middle;\n",
       "    }\n",
       "\n",
       "    .dataframe tbody tr th {\n",
       "        vertical-align: top;\n",
       "    }\n",
       "\n",
       "    .dataframe thead th {\n",
       "        text-align: right;\n",
       "    }\n",
       "</style>\n",
       "<table border=\"1\" class=\"dataframe\">\n",
       "  <thead>\n",
       "    <tr style=\"text-align: right;\">\n",
       "      <th></th>\n",
       "      <th>Review</th>\n",
       "      <th>giai_tri</th>\n",
       "      <th>luu_tru</th>\n",
       "      <th>nha_hang</th>\n",
       "      <th>an_uong</th>\n",
       "      <th>di_chuyen</th>\n",
       "      <th>mua_sam</th>\n",
       "    </tr>\n",
       "  </thead>\n",
       "  <tbody>\n",
       "    <tr>\n",
       "      <th>4</th>\n",
       "      <td>Rất khuyên bạn nên ghé thăm quán bar thể thao này</td>\n",
       "      <td>3</td>\n",
       "      <td>0</td>\n",
       "      <td>0</td>\n",
       "      <td>0</td>\n",
       "      <td>0</td>\n",
       "      <td>0</td>\n",
       "    </tr>\n",
       "    <tr>\n",
       "      <th>7</th>\n",
       "      <td>Tôi bắt xe 7 chỗ đi từ sân bay về nhà.Thái độ ...</td>\n",
       "      <td>1</td>\n",
       "      <td>0</td>\n",
       "      <td>0</td>\n",
       "      <td>0</td>\n",
       "      <td>1</td>\n",
       "      <td>0</td>\n",
       "    </tr>\n",
       "    <tr>\n",
       "      <th>8</th>\n",
       "      <td>Bãi Đá Trứng có những viên đá hình tròn hoặc b...</td>\n",
       "      <td>5</td>\n",
       "      <td>0</td>\n",
       "      <td>0</td>\n",
       "      <td>0</td>\n",
       "      <td>0</td>\n",
       "      <td>0</td>\n",
       "    </tr>\n",
       "    <tr>\n",
       "      <th>18</th>\n",
       "      <td>Hiện  tại đã tu sửa xong, tuy nhiên loại hình ...</td>\n",
       "      <td>4</td>\n",
       "      <td>0</td>\n",
       "      <td>0</td>\n",
       "      <td>0</td>\n",
       "      <td>0</td>\n",
       "      <td>0</td>\n",
       "    </tr>\n",
       "    <tr>\n",
       "      <th>26</th>\n",
       "      <td>Mát mẻ,nhìn cũng dc,nhưng ko có gì đặc sắc cho...</td>\n",
       "      <td>4</td>\n",
       "      <td>0</td>\n",
       "      <td>0</td>\n",
       "      <td>0</td>\n",
       "      <td>0</td>\n",
       "      <td>0</td>\n",
       "    </tr>\n",
       "    <tr>\n",
       "      <th>...</th>\n",
       "      <td>...</td>\n",
       "      <td>...</td>\n",
       "      <td>...</td>\n",
       "      <td>...</td>\n",
       "      <td>...</td>\n",
       "      <td>...</td>\n",
       "      <td>...</td>\n",
       "    </tr>\n",
       "    <tr>\n",
       "      <th>3636</th>\n",
       "      <td>phục vụ lộm nhộm, đồ ăn chờ lâu, thức ă...</td>\n",
       "      <td>1</td>\n",
       "      <td>0</td>\n",
       "      <td>1</td>\n",
       "      <td>1</td>\n",
       "      <td>0</td>\n",
       "      <td>0</td>\n",
       "    </tr>\n",
       "    <tr>\n",
       "      <th>3640</th>\n",
       "      <td>Quán sạch sẽ, đẹp . Đồ ăn đa dạng và vị hợp vớ...</td>\n",
       "      <td>4</td>\n",
       "      <td>0</td>\n",
       "      <td>4</td>\n",
       "      <td>4</td>\n",
       "      <td>0</td>\n",
       "      <td>0</td>\n",
       "    </tr>\n",
       "    <tr>\n",
       "      <th>3680</th>\n",
       "      <td>Ks rất tuyệt. Nhân viên nhiệt tình. Phòng ốc r...</td>\n",
       "      <td>5</td>\n",
       "      <td>5</td>\n",
       "      <td>0</td>\n",
       "      <td>0</td>\n",
       "      <td>0</td>\n",
       "      <td>0</td>\n",
       "    </tr>\n",
       "    <tr>\n",
       "      <th>3684</th>\n",
       "      <td>Người lái xe đến sớm để đợi tôi. Tôi yên tâm r...</td>\n",
       "      <td>5</td>\n",
       "      <td>0</td>\n",
       "      <td>0</td>\n",
       "      <td>0</td>\n",
       "      <td>0</td>\n",
       "      <td>0</td>\n",
       "    </tr>\n",
       "    <tr>\n",
       "      <th>3686</th>\n",
       "      <td>Nói chung là rất nhàm chán cới kiểu làm du lịc...</td>\n",
       "      <td>1</td>\n",
       "      <td>0</td>\n",
       "      <td>0</td>\n",
       "      <td>0</td>\n",
       "      <td>0</td>\n",
       "      <td>0</td>\n",
       "    </tr>\n",
       "  </tbody>\n",
       "</table>\n",
       "<p>557 rows × 7 columns</p>\n",
       "</div>"
      ],
      "text/plain": [
       "                                                 Review  giai_tri  luu_tru  \\\n",
       "4     Rất khuyên bạn nên ghé thăm quán bar thể thao này         3        0   \n",
       "7     Tôi bắt xe 7 chỗ đi từ sân bay về nhà.Thái độ ...         1        0   \n",
       "8     Bãi Đá Trứng có những viên đá hình tròn hoặc b...         5        0   \n",
       "18    Hiện  tại đã tu sửa xong, tuy nhiên loại hình ...         4        0   \n",
       "26    Mát mẻ,nhìn cũng dc,nhưng ko có gì đặc sắc cho...         4        0   \n",
       "...                                                 ...       ...      ...   \n",
       "3636  phục vụ lộm nhộm, đồ ăn chờ lâu, thức ă...         1        0   \n",
       "3640  Quán sạch sẽ, đẹp . Đồ ăn đa dạng và vị hợp vớ...         4        0   \n",
       "3680  Ks rất tuyệt. Nhân viên nhiệt tình. Phòng ốc r...         5        5   \n",
       "3684  Người lái xe đến sớm để đợi tôi. Tôi yên tâm r...         5        0   \n",
       "3686  Nói chung là rất nhàm chán cới kiểu làm du lịc...         1        0   \n",
       "\n",
       "      nha_hang  an_uong  di_chuyen  mua_sam  \n",
       "4            0        0          0        0  \n",
       "7            0        0          1        0  \n",
       "8            0        0          0        0  \n",
       "18           0        0          0        0  \n",
       "26           0        0          0        0  \n",
       "...        ...      ...        ...      ...  \n",
       "3636         1        1          0        0  \n",
       "3640         4        4          0        0  \n",
       "3680         0        0          0        0  \n",
       "3684         0        0          0        0  \n",
       "3686         0        0          0        0  \n",
       "\n",
       "[557 rows x 7 columns]"
      ]
     },
     "execution_count": 13,
     "metadata": {},
     "output_type": "execute_result"
    }
   ],
   "source": [
    "data[data['giai_tri'] > 0]"
   ]
  },
  {
   "cell_type": "code",
   "execution_count": 16,
   "metadata": {},
   "outputs": [
    {
     "data": {
      "text/plain": [
       "[['Trước chuyến thăm này, chúng tôi đã đi du lịch vòng quanh Việt Nam và gắn bó với ẩm thực Việt Nam. Tuy nhiên, khi chúng tôi thấy có một nơi pizza thì đó là điều phải làm. . . ngon, họ thậm chí còn phục vụ bánh pizza truffle (rất khuyên bạn nên)',\n",
       "  3,\n",
       "  0,\n",
       "  5],\n",
       " ['Đến SGN sau một chuyến bay dài và xếp hàng nhập cảnh khá dài, thật tuyệt khi thấy tên mình trên biển báo và được giới thiệu về giao thông \\nhấp dẫn ở TP.HCM. Một dịch vụ tuyệt vời-cảm ơn bạn!',\n",
       "  5,\n",
       "  0,\n",
       "  0],\n",
       " ['phục vụ lộm nhộm, đồ ăn chờ lâu, thức ăn bình thường hơi béo và ngán. không gian nóng bức chật chội',\n",
       "  1,\n",
       "  1,\n",
       "  1],\n",
       " ['Quán sạch sẽ, đẹp . Đồ ăn đa dạng và vị hợp với người việt nam. Giá cả cũng ok so với các quán khác ở quận 1.',\n",
       "  4,\n",
       "  4,\n",
       "  4],\n",
       " ['Ks rất tuyệt. Nhân viên nhiệt tình. Phòng ốc rất sạch sẽ. View cực đẹp. Sẽ quay trở lại lần nữa nếu du lịch Nha Trang. Đánh giá 10 điểm.',\n",
       "  5,\n",
       "  0,\n",
       "  0],\n",
       " ['Người lái xe đến sớm để đợi tôi. Tôi yên tâm rằng tôi sẽ được đưa đến khách sạn của tôi ở nước ngoài.',\n",
       "  5,\n",
       "  0,\n",
       "  0]]"
      ]
     },
     "execution_count": 16,
     "metadata": {},
     "output_type": "execute_result"
    }
   ],
   "source": [
    "data[data['giai_tri'] > 0][[\"Review\", \"giai_tri\", \"nha_hang\", \"an_uong\"]].values.tolist()[550:-1]"
   ]
  },
  {
   "cell_type": "code",
   "execution_count": 19,
   "metadata": {},
   "outputs": [],
   "source": [
    "x_train = data['Review']\n"
   ]
  },
  {
   "cell_type": "code",
   "execution_count": 21,
   "metadata": {},
   "outputs": [],
   "source": [
    "x_train = x_train.apply(lambda x : text_cleaner(x))\n"
   ]
  },
  {
   "cell_type": "code",
   "execution_count": 24,
   "metadata": {},
   "outputs": [
    {
     "data": {
      "text/plain": [
       "array(['mình đi quay về nên tranh thủ tìm 1 quán cafe hay trà sữa nào để giải toả stress của công việc. đi dao trên đường ngô mây vô tình gặp quán trà sữa nhỏ nhắn với tông màu cực dễ thương lun ‘hường’! view quán với chất màu zể thương cho những bạn thích chụp hình nhé. quán vừa mới làm lại view thêm lung linh nữa nhé, về thức uống thì quán khá đa dạng nhé trong tầm giá 15-25k rất phù hợp với các bạn sinh viên học sinh . bật mí món trà sữa ngon lắm nhé ! lần sau sẽ quay lại quán nhé <3',\n",
       "       'quán nằm ngay ngã tư trần phú - nguyễn công trứ. quán siêu to và trang tri siêu đẹp. mình ghé quán lúc tết cơ mà giờ mới review. tết có khác tụi mình lên tầng 3 thì ôi thôi như một cái chợ, toàn tụ tập đánh bài bạc và nói chuyện đùa giỡn siêu ồn. tụi mình ngồi nc không nghe đc luôn nên rút xuống tầng 2 may mà có ng đi nên có bàn. nước thì không ngon, nhân viên còn làm nhầm món tụi mình gọi latte với sinh tố dâu, soda việt quất thì làm nhầm sinh tố việt quất với soda dâu. bạn mình gọi lên đổi món thì bạn nhân viên ok và xin lỗi (chuyên nghiệp nè. nhưng mà không có nước gì ra hồn luôn, siêu thất vọng nên thử 1 lần cho biết không có ý định ghé lại.',\n",
       "       'mình vừa trả xe cách đây 5p , thật sự nhân viên ở đây rất thân thiện , giá có 120.000 đ. xe mới chạy rất tốt . lần sau đến quy nhơn mình sẽ ghé để sử dụng dịch vụ của bạn ! thank you',\n",
       "       'quán ăn ngon, sạch sẽ, nhân viên vui vẻ, giá rẽ hơn so với thực tế, có dịp sẽ đến thưởng thức tiếp. trãi nghiệm cùng : du lịch thực tế - ẩm thực địa phương.',\n",
       "       'chỗ nghỉ rất sạch sẽ, nhân viên rất nhiệt tình và dễ thương. mình đc sắp xếp phòng có view nhìn ra thành phố rất đẹp, phòng còn rất sáng sủa và thoáng đãng',\n",
       "       'khung cảnh thoáng mát, view trực tiếp ra bãi biển. có lối đi bộ và ghế đá sạch sẽ, không có rác tuy nhiên hơi ít thùng rác và thùng rác hơi nhỏ, cần bổ sung thêm.',\n",
       "       'phòng ốc sạch sẽ, view khá xịn xò, có thể ngắm trọn vẹn bình minh bsang. ngay bãi tắm, đi vào trung tâm cũng gần',\n",
       "       'nhà xe rất lịch sự, khách cũng lịch sự, có cả khách tây, xe sạch sẽ, thơm tho. lần sau sẽ trở lại. giải trí trên xe tuyệt vời, tối có phim chiếu rạp coi luôn.',\n",
       "       'được giới thiệu là quán trà sữa ngon nhất quy nhơn. mình là dân du lịch cảm thấy trà sữa quá ngọt và béo. với dân nghiện trà sữa đi đâu cũng phải có trà sữa như mình thì không hợp lắm. mình không thể cảm nhận được vị trà trong này luôn. thạch cũng khá ngọt.nhưng ly 15k đầy ú và nhân viên phục vụ nhanh nhẹn, thân thiện.',\n",
       "       'sau những bữa ăn ngon như vậy tại chi nhánh hà nội, chúng tôi đã mong đợi chất lượng tương tự với giá vé',\n",
       "       'quán rộng, thoáng mát, hải sản tươi sống, giá hợp lý. nói chung là hết ý với quy nhơn.',\n",
       "       'home mình vừa thuê bên bạn 3 chiếc xe, xe các bạn giao đến còn khá mới, xe tốt và mình thích nhất là cách tư vấn của a chủ, a ấy rất nhiệt tình vui vẻ hướng dẫn cho khách mình rất nhiều điểm chơi và ăn uống khá rẻ tại quy nhơn. thay mặt khách em cảm ơn a chủ rất nhiều',\n",
       "       'ks rất tuyệt. nhân viên nhiệt tình. phòng ốc rất sạch sẽ. view cực đẹp. sẽ quay trở lại lần nữa nếu du lịch nha trang. đánh giá 10 điểm.',\n",
       "       'rất bận rộn và không có đủ không gian cho nhóm người. chúng tôi có cá, vỏ và bia. nhưng chờ đợi quá lâu.',\n",
       "       'nhân viên rất nhiệt tình, dễ thương. phòng ốc rất sạch sẽ, giống hình ảnh đàng hoàng. mình quên ham chơi không có chụp lại hình. mong cho green meadow giữ vững chất lượng như này.',\n",
       "       'ngon, giá hợp lý không thích món gà rán vì ăn quá chán nhưng mà đồ nướng thì tẩm ướp ngon dã man, nước chấm cũng vậy quán đông kinh khủng nhưng nhân viên rất nhanh nhẹn, nhiệt tình ko phải đợi gì cả',\n",
       "       'người lái xe đến sớm để đợi tôi. tôi yên tâm rằng tôi sẽ được đưa đến khách sạn của tôi ở nước ngoài.',\n",
       "       'phòng đẹp, sạch sẽ đầy đủ tiện nghi, nằm trong khu biệt thự nên rất yên tĩnh, chủ thân thiện, sẽ quay lại nếu có dịp.',\n",
       "       'nói chung là rất nhàm chán cới kiểu làm du lịch ở đây. tôi không thấy được cái gì gọi là nơi ba anh em tập hợp quân luyện võ để có những bước chân thần tốc. quá nhiều công trình nhưng chẳng viết xây dựng để làm gì.',\n",
       "       'lần đầu trải nghiệm sbay phù cát, các bạn nhân viên rất nhiệt tình luôn'],\n",
       "      dtype=object)"
      ]
     },
     "execution_count": 24,
     "metadata": {},
     "output_type": "execute_result"
    }
   ],
   "source": [
    "x_train[-20:].values"
   ]
  },
  {
   "cell_type": "code",
   "execution_count": null,
   "metadata": {},
   "outputs": [],
   "source": [
    "x_train = x_train.progress_apply(lambda x: ' '.join(rdrsegmenter.word_segment(x)))\n"
   ]
  },
  {
   "cell_type": "code",
   "execution_count": 4,
   "metadata": {},
   "outputs": [],
   "source": [
    "import re"
   ]
  },
  {
   "cell_type": "code",
   "execution_count": 5,
   "metadata": {},
   "outputs": [],
   "source": [
    "x = \"từ khắp nơi trên thế giới khi đến việt 500k nam\""
   ]
  },
  {
   "cell_type": "code",
   "execution_count": 6,
   "metadata": {},
   "outputs": [
    {
     "data": {
      "text/plain": [
       "['0']"
      ]
     },
     "execution_count": 6,
     "metadata": {},
     "output_type": "execute_result"
    }
   ],
   "source": [
    "re.findall(\"([0-9])k\", x)"
   ]
  },
  {
   "cell_type": "code",
   "execution_count": 13,
   "metadata": {},
   "outputs": [
    {
     "data": {
      "text/plain": [
       "'từ khắp nơi trên thế giới khi đến việt nam'"
      ]
     },
     "execution_count": 13,
     "metadata": {},
     "output_type": "execute_result"
    }
   ],
   "source": [
    "re.sub(\"(\\D) k \" , \"\\\\1 không \", x)"
   ]
  },
  {
   "cell_type": "code",
   "execution_count": 9,
   "metadata": {},
   "outputs": [
    {
     "data": {
      "text/plain": [
       "'từ khắp nơi trên thế giới khi đến việt 500 nghìn đồng nam'"
      ]
     },
     "execution_count": 9,
     "metadata": {},
     "output_type": "execute_result"
    }
   ],
   "source": [
    "re.sub(\"([0-9])k\" , \"\\\\1 nghìn đồng\", x)"
   ]
  }
 ],
 "metadata": {
  "kernelspec": {
   "display_name": "Python 3.9.12 ('base')",
   "language": "python",
   "name": "python3"
  },
  "language_info": {
   "codemirror_mode": {
    "name": "ipython",
    "version": 3
   },
   "file_extension": ".py",
   "mimetype": "text/x-python",
   "name": "python",
   "nbconvert_exporter": "python",
   "pygments_lexer": "ipython3",
   "version": "3.9.12"
  },
  "orig_nbformat": 4,
  "vscode": {
   "interpreter": {
    "hash": "aab775f315f07291ac78e503ba0b1ce073ccf4e9aea60cb38b3a09e3e6afb23b"
   }
  }
 },
 "nbformat": 4,
 "nbformat_minor": 2
}
