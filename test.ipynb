{
 "cells": [
  {
   "cell_type": "code",
   "execution_count": 1,
   "metadata": {},
   "outputs": [
    {
     "name": "stderr",
     "output_type": "stream",
     "text": [
      "c:\\Users\\ADMIN\\anaconda3\\envs\\QN\\lib\\site-packages\\tqdm\\auto.py:22: TqdmWarning: IProgress not found. Please update jupyter and ipywidgets. See https://ipywidgets.readthedocs.io/en/stable/user_install.html\n",
      "  from .autonotebook import tqdm as notebook_tqdm\n"
     ]
    }
   ],
   "source": [
    "import py_vncorenlp\n",
    "import pandas as pd\n",
    "from transformers import AutoTokenizer\n",
    "import numpy as np\n",
    "# import numpy as np\n",
    "import re"
   ]
  },
  {
   "cell_type": "code",
   "execution_count": 2,
   "metadata": {},
   "outputs": [],
   "source": [
    "def convert_to_feature(series, tokenizer, max_sequence_length):\n",
    "    outputs = []\n",
    "    outputs = np.zeros((len(series), max_sequence_length))\n",
    "    cls_id = 0\n",
    "    eos_id = 2\n",
    "    pad_id = 1\n",
    "    for idx, row in enumerate(series): \n",
    "        input_ids = tokenizer.encode(row)\n",
    "        if len(input_ids) > max_sequence_length: \n",
    "            input_ids = input_ids[:max_sequence_length] \n",
    "            input_ids[-1] = eos_id\n",
    "        else:\n",
    "            input_ids = input_ids + [pad_id, ]*(max_sequence_length - len(input_ids))\n",
    "        outputs[idx,:] = np.array(input_ids)\n",
    "    return outputs\n",
    "    \n",
    "def text_cleaner(review):\n",
    "    review = review.replace('\\n', ' ')\n",
    "    review = review.replace('-', ' ')\n",
    "    # review = review.replace('.', '')\n",
    "    review = re.sub(\"\\s\\s+\" , \" \", review)\n",
    "    # review = re.sub(r'[^\\w\\s]', '', review)\n",
    "    review = review.strip()\n",
    "    # review = review.lower()\n",
    "    return review"
   ]
  },
  {
   "cell_type": "code",
   "execution_count": 2,
   "metadata": {},
   "outputs": [
    {
     "name": "stderr",
     "output_type": "stream",
     "text": [
      "Special tokens have been added in the vocabulary, make sure the associated word embeddings are fine-tuned or trained.\n"
     ]
    }
   ],
   "source": [
    "rdrsegmenter = py_vncorenlp.VnCoreNLP(annotators=[\"wseg\"], save_dir=\"E:\\\\OneDrive\\\\Hackathon\\\\Problem2\\\\vncorenlp\")\n",
    "tokenizer = AutoTokenizer.from_pretrained('vinai/phobert-base')\n"
   ]
  },
  {
   "cell_type": "code",
   "execution_count": 3,
   "metadata": {},
   "outputs": [
    {
     "data": {
      "text/plain": [
       "[0, 16, 73, 25758, 13208, 2]"
      ]
     },
     "execution_count": 3,
     "metadata": {},
     "output_type": "execute_result"
    }
   ],
   "source": [
    "a = \"một con vịt.\"\n",
    "tokenizer.encode(a)"
   ]
  },
  {
   "cell_type": "code",
   "execution_count": 4,
   "metadata": {},
   "outputs": [],
   "source": [
    "train_df = pd.read_csv('E:\\\\OneDrive\\\\Hackathon\\\\Problem2\\\\data\\\\train-problem2.csv')\n",
    "test_df = pd.read_csv('E:\\\\OneDrive\\\\Hackathon\\\\Problem2\\\\data\\\\public-problem2.csv')"
   ]
  },
  {
   "cell_type": "code",
   "execution_count": 5,
   "metadata": {},
   "outputs": [],
   "source": [
    "label = ['Dịch vụ vui chơi giải trí.', 'Dịch vụ lưu trú.', 'Hệ thống nhà hàng.', 'Dịch vụ ăn uống.', 'Dịch vụ di chuyển.', 'Dịch vụ mua sắm.']"
   ]
  },
  {
   "cell_type": "code",
   "execution_count": 6,
   "metadata": {},
   "outputs": [
    {
     "data": {
      "text/plain": [
       "['Dịch vụ vui chơi giải trí.',\n",
       " 'Dịch vụ lưu trú.',\n",
       " 'Hệ thống nhà hàng.',\n",
       " 'Dịch vụ ăn uống.',\n",
       " 'Dịch vụ di chuyển.',\n",
       " 'Dịch vụ mua sắm.']"
      ]
     },
     "execution_count": 6,
     "metadata": {},
     "output_type": "execute_result"
    }
   ],
   "source": [
    "label"
   ]
  },
  {
   "cell_type": "code",
   "execution_count": 7,
   "metadata": {},
   "outputs": [
    {
     "data": {
      "text/html": [
       "<div>\n",
       "<style scoped>\n",
       "    .dataframe tbody tr th:only-of-type {\n",
       "        vertical-align: middle;\n",
       "    }\n",
       "\n",
       "    .dataframe tbody tr th {\n",
       "        vertical-align: top;\n",
       "    }\n",
       "\n",
       "    .dataframe thead th {\n",
       "        text-align: right;\n",
       "    }\n",
       "</style>\n",
       "<table border=\"1\" class=\"dataframe\">\n",
       "  <thead>\n",
       "    <tr style=\"text-align: right;\">\n",
       "      <th></th>\n",
       "      <th>Review</th>\n",
       "      <th>a0</th>\n",
       "      <th>a1</th>\n",
       "      <th>a2</th>\n",
       "      <th>a3</th>\n",
       "      <th>a4</th>\n",
       "      <th>a5</th>\n",
       "    </tr>\n",
       "  </thead>\n",
       "  <tbody>\n",
       "    <tr>\n",
       "      <th>0</th>\n",
       "      <td>Bánh rất nhiều tôm to, tôm giòn nằm chễm chệ t...</td>\n",
       "      <td>0</td>\n",
       "      <td>0</td>\n",
       "      <td>0</td>\n",
       "      <td>5</td>\n",
       "      <td>0</td>\n",
       "      <td>0</td>\n",
       "    </tr>\n",
       "    <tr>\n",
       "      <th>1</th>\n",
       "      <td>Đi Quy Nhơn cứ lo không có pizza ăn nhưng nhờ ...</td>\n",
       "      <td>0</td>\n",
       "      <td>0</td>\n",
       "      <td>0</td>\n",
       "      <td>5</td>\n",
       "      <td>0</td>\n",
       "      <td>0</td>\n",
       "    </tr>\n",
       "    <tr>\n",
       "      <th>2</th>\n",
       "      <td>các món ăn ở đây không có gì đặc sắc, có lẽ nấ...</td>\n",
       "      <td>0</td>\n",
       "      <td>0</td>\n",
       "      <td>1</td>\n",
       "      <td>1</td>\n",
       "      <td>0</td>\n",
       "      <td>0</td>\n",
       "    </tr>\n",
       "    <tr>\n",
       "      <th>3</th>\n",
       "      <td>Lần thứ 2 quay lại đây, vì giới thiệu quán cà ...</td>\n",
       "      <td>0</td>\n",
       "      <td>0</td>\n",
       "      <td>0</td>\n",
       "      <td>2</td>\n",
       "      <td>0</td>\n",
       "      <td>0</td>\n",
       "    </tr>\n",
       "    <tr>\n",
       "      <th>4</th>\n",
       "      <td>Rất khuyên bạn nên ghé thăm quán bar thể thao này</td>\n",
       "      <td>3</td>\n",
       "      <td>0</td>\n",
       "      <td>0</td>\n",
       "      <td>0</td>\n",
       "      <td>0</td>\n",
       "      <td>0</td>\n",
       "    </tr>\n",
       "  </tbody>\n",
       "</table>\n",
       "</div>"
      ],
      "text/plain": [
       "                                              Review  a0  a1  a2  a3  a4  a5\n",
       "0  Bánh rất nhiều tôm to, tôm giòn nằm chễm chệ t...   0   0   0   5   0   0\n",
       "1  Đi Quy Nhơn cứ lo không có pizza ăn nhưng nhờ ...   0   0   0   5   0   0\n",
       "2  các món ăn ở đây không có gì đặc sắc, có lẽ nấ...   0   0   1   1   0   0\n",
       "3  Lần thứ 2 quay lại đây, vì giới thiệu quán cà ...   0   0   0   2   0   0\n",
       "4  Rất khuyên bạn nên ghé thăm quán bar thể thao này   3   0   0   0   0   0"
      ]
     },
     "execution_count": 7,
     "metadata": {},
     "output_type": "execute_result"
    }
   ],
   "source": [
    "train_df.head()"
   ]
  },
  {
   "cell_type": "code",
   "execution_count": 8,
   "metadata": {},
   "outputs": [],
   "source": [
    "a_col = train_df.select_dtypes('int64').columns.to_list()"
   ]
  },
  {
   "cell_type": "code",
   "execution_count": 9,
   "metadata": {},
   "outputs": [],
   "source": [
    "train_df[label] = train_df[a_col]"
   ]
  },
  {
   "cell_type": "code",
   "execution_count": 25,
   "metadata": {},
   "outputs": [],
   "source": [
    "test_df[label] = test_df[a_col]"
   ]
  },
  {
   "cell_type": "code",
   "execution_count": 12,
   "metadata": {},
   "outputs": [
    {
     "data": {
      "text/html": [
       "<div>\n",
       "<style scoped>\n",
       "    .dataframe tbody tr th:only-of-type {\n",
       "        vertical-align: middle;\n",
       "    }\n",
       "\n",
       "    .dataframe tbody tr th {\n",
       "        vertical-align: top;\n",
       "    }\n",
       "\n",
       "    .dataframe thead th {\n",
       "        text-align: right;\n",
       "    }\n",
       "</style>\n",
       "<table border=\"1\" class=\"dataframe\">\n",
       "  <thead>\n",
       "    <tr style=\"text-align: right;\">\n",
       "      <th></th>\n",
       "      <th>Review</th>\n",
       "      <th>a0</th>\n",
       "      <th>a1</th>\n",
       "      <th>a2</th>\n",
       "      <th>a3</th>\n",
       "      <th>a4</th>\n",
       "      <th>a5</th>\n",
       "      <th>Dịch vụ vui chơi giải trí.</th>\n",
       "      <th>Dịch vụ lưu trú.</th>\n",
       "      <th>Hệ thống nhà hàng.</th>\n",
       "      <th>Dịch vụ ăn uống.</th>\n",
       "      <th>Dịch vụ di chuyển.</th>\n",
       "      <th>Dịch vụ mua sắm.</th>\n",
       "    </tr>\n",
       "  </thead>\n",
       "  <tbody>\n",
       "    <tr>\n",
       "      <th>0</th>\n",
       "      <td>Bánh rất nhiều tôm to, tôm giòn nằm chễm chệ t...</td>\n",
       "      <td>0</td>\n",
       "      <td>0</td>\n",
       "      <td>0</td>\n",
       "      <td>5</td>\n",
       "      <td>0</td>\n",
       "      <td>0</td>\n",
       "      <td>0</td>\n",
       "      <td>0</td>\n",
       "      <td>0</td>\n",
       "      <td>5</td>\n",
       "      <td>0</td>\n",
       "      <td>0</td>\n",
       "    </tr>\n",
       "    <tr>\n",
       "      <th>1</th>\n",
       "      <td>Đi Quy Nhơn cứ lo không có pizza ăn nhưng nhờ ...</td>\n",
       "      <td>0</td>\n",
       "      <td>0</td>\n",
       "      <td>0</td>\n",
       "      <td>5</td>\n",
       "      <td>0</td>\n",
       "      <td>0</td>\n",
       "      <td>0</td>\n",
       "      <td>0</td>\n",
       "      <td>0</td>\n",
       "      <td>5</td>\n",
       "      <td>0</td>\n",
       "      <td>0</td>\n",
       "    </tr>\n",
       "    <tr>\n",
       "      <th>2</th>\n",
       "      <td>các món ăn ở đây không có gì đặc sắc, có lẽ nấ...</td>\n",
       "      <td>0</td>\n",
       "      <td>0</td>\n",
       "      <td>1</td>\n",
       "      <td>1</td>\n",
       "      <td>0</td>\n",
       "      <td>0</td>\n",
       "      <td>0</td>\n",
       "      <td>0</td>\n",
       "      <td>1</td>\n",
       "      <td>1</td>\n",
       "      <td>0</td>\n",
       "      <td>0</td>\n",
       "    </tr>\n",
       "    <tr>\n",
       "      <th>3</th>\n",
       "      <td>Lần thứ 2 quay lại đây, vì giới thiệu quán cà ...</td>\n",
       "      <td>0</td>\n",
       "      <td>0</td>\n",
       "      <td>0</td>\n",
       "      <td>2</td>\n",
       "      <td>0</td>\n",
       "      <td>0</td>\n",
       "      <td>0</td>\n",
       "      <td>0</td>\n",
       "      <td>0</td>\n",
       "      <td>2</td>\n",
       "      <td>0</td>\n",
       "      <td>0</td>\n",
       "    </tr>\n",
       "    <tr>\n",
       "      <th>4</th>\n",
       "      <td>Rất khuyên bạn nên ghé thăm quán bar thể thao này</td>\n",
       "      <td>3</td>\n",
       "      <td>0</td>\n",
       "      <td>0</td>\n",
       "      <td>0</td>\n",
       "      <td>0</td>\n",
       "      <td>0</td>\n",
       "      <td>3</td>\n",
       "      <td>0</td>\n",
       "      <td>0</td>\n",
       "      <td>0</td>\n",
       "      <td>0</td>\n",
       "      <td>0</td>\n",
       "    </tr>\n",
       "  </tbody>\n",
       "</table>\n",
       "</div>"
      ],
      "text/plain": [
       "                                              Review  a0  a1  a2  a3  a4  a5  \\\n",
       "0  Bánh rất nhiều tôm to, tôm giòn nằm chễm chệ t...   0   0   0   5   0   0   \n",
       "1  Đi Quy Nhơn cứ lo không có pizza ăn nhưng nhờ ...   0   0   0   5   0   0   \n",
       "2  các món ăn ở đây không có gì đặc sắc, có lẽ nấ...   0   0   1   1   0   0   \n",
       "3  Lần thứ 2 quay lại đây, vì giới thiệu quán cà ...   0   0   0   2   0   0   \n",
       "4  Rất khuyên bạn nên ghé thăm quán bar thể thao này   3   0   0   0   0   0   \n",
       "\n",
       "   Dịch vụ vui chơi giải trí.  Dịch vụ lưu trú.  Hệ thống nhà hàng.  \\\n",
       "0                           0                 0                   0   \n",
       "1                           0                 0                   0   \n",
       "2                           0                 0                   1   \n",
       "3                           0                 0                   0   \n",
       "4                           3                 0                   0   \n",
       "\n",
       "   Dịch vụ ăn uống.  Dịch vụ di chuyển.  Dịch vụ mua sắm.  \n",
       "0                 5                   0                 0  \n",
       "1                 5                   0                 0  \n",
       "2                 1                   0                 0  \n",
       "3                 2                   0                 0  \n",
       "4                 0                   0                 0  "
      ]
     },
     "execution_count": 12,
     "metadata": {},
     "output_type": "execute_result"
    }
   ],
   "source": [
    "train_df.head()"
   ]
  },
  {
   "cell_type": "code",
   "execution_count": 13,
   "metadata": {},
   "outputs": [],
   "source": [
    "a_col = train_df.select_dtypes('int64').columns.to_list()\n",
    "x_train = train_df['Review']\n",
    "y_train = train_df[label].clip(upper=1)\n",
    "\n",
    "x_test = test_df['Review']\n",
    "y_test = test_df[label].clip(upper=1)"
   ]
  },
  {
   "cell_type": "code",
   "execution_count": 24,
   "metadata": {},
   "outputs": [
    {
     "name": "stdout",
     "output_type": "stream",
     "text": [
      "17790\n",
      "17790\n"
     ]
    }
   ],
   "source": [
    "data = []\n",
    "labels = []\n",
    "count = 0\n",
    "for index, row in train_df.iterrows():\n",
    "    for i in label:\n",
    "        text = row['Review'] + ' ' + i\n",
    "        data.append(text)\n",
    "        labels.append(int(row[i] > 0))\n",
    "    if count == 1:\n",
    "        break\n",
    "    # count += 1 \n",
    "print(len(data))\n",
    "print(len(labels))"
   ]
  },
  {
   "cell_type": "code",
   "execution_count": 30,
   "metadata": {},
   "outputs": [
    {
     "name": "stdout",
     "output_type": "stream",
     "text": [
      "5934\n",
      "5934\n"
     ]
    }
   ],
   "source": [
    "data = []\n",
    "labels = []\n",
    "count = 0\n",
    "for index, row in test_df.iterrows():\n",
    "    for i in label:\n",
    "        text = row['Review'] + ' ' + i\n",
    "        data.append(text)\n",
    "        labels.append(int(row[i] > 0))\n",
    "    if count == 1:\n",
    "        break\n",
    "    # count += 1 \n",
    "print(len(data))\n",
    "print(len(labels))"
   ]
  },
  {
   "cell_type": "code",
   "execution_count": 31,
   "metadata": {},
   "outputs": [],
   "source": [
    "df = pd.DataFrame(list(zip(data, labels)),\n",
    "               columns =['Review', 'Label'])"
   ]
  },
  {
   "cell_type": "code",
   "execution_count": 32,
   "metadata": {},
   "outputs": [
    {
     "data": {
      "text/html": [
       "<div>\n",
       "<style scoped>\n",
       "    .dataframe tbody tr th:only-of-type {\n",
       "        vertical-align: middle;\n",
       "    }\n",
       "\n",
       "    .dataframe tbody tr th {\n",
       "        vertical-align: top;\n",
       "    }\n",
       "\n",
       "    .dataframe thead th {\n",
       "        text-align: right;\n",
       "    }\n",
       "</style>\n",
       "<table border=\"1\" class=\"dataframe\">\n",
       "  <thead>\n",
       "    <tr style=\"text-align: right;\">\n",
       "      <th></th>\n",
       "      <th>Review</th>\n",
       "      <th>Label</th>\n",
       "    </tr>\n",
       "  </thead>\n",
       "  <tbody>\n",
       "    <tr>\n",
       "      <th>0</th>\n",
       "      <td>Nơi đó thật kinh khủng, chúng tôi nhìn thấy nh...</td>\n",
       "      <td>0</td>\n",
       "    </tr>\n",
       "    <tr>\n",
       "      <th>1</th>\n",
       "      <td>Nơi đó thật kinh khủng, chúng tôi nhìn thấy nh...</td>\n",
       "      <td>0</td>\n",
       "    </tr>\n",
       "    <tr>\n",
       "      <th>2</th>\n",
       "      <td>Nơi đó thật kinh khủng, chúng tôi nhìn thấy nh...</td>\n",
       "      <td>1</td>\n",
       "    </tr>\n",
       "    <tr>\n",
       "      <th>3</th>\n",
       "      <td>Nơi đó thật kinh khủng, chúng tôi nhìn thấy nh...</td>\n",
       "      <td>1</td>\n",
       "    </tr>\n",
       "    <tr>\n",
       "      <th>4</th>\n",
       "      <td>Nơi đó thật kinh khủng, chúng tôi nhìn thấy nh...</td>\n",
       "      <td>0</td>\n",
       "    </tr>\n",
       "  </tbody>\n",
       "</table>\n",
       "</div>"
      ],
      "text/plain": [
       "                                              Review  Label\n",
       "0  Nơi đó thật kinh khủng, chúng tôi nhìn thấy nh...      0\n",
       "1  Nơi đó thật kinh khủng, chúng tôi nhìn thấy nh...      0\n",
       "2  Nơi đó thật kinh khủng, chúng tôi nhìn thấy nh...      1\n",
       "3  Nơi đó thật kinh khủng, chúng tôi nhìn thấy nh...      1\n",
       "4  Nơi đó thật kinh khủng, chúng tôi nhìn thấy nh...      0"
      ]
     },
     "execution_count": 32,
     "metadata": {},
     "output_type": "execute_result"
    }
   ],
   "source": [
    "df.head()"
   ]
  },
  {
   "cell_type": "code",
   "execution_count": 33,
   "metadata": {},
   "outputs": [],
   "source": [
    "df.to_csv('E:\\\\Git\\\\Problem2\\\\data\\\\test_preprocess.csv')"
   ]
  },
  {
   "cell_type": "code",
   "execution_count": 14,
   "metadata": {},
   "outputs": [],
   "source": [
    "a = [12,1,2,3,4,5,6,7]\n",
    "b = a[len(a)-2:]"
   ]
  },
  {
   "cell_type": "code",
   "execution_count": 16,
   "metadata": {},
   "outputs": [],
   "source": [
    "b.append(0)"
   ]
  },
  {
   "cell_type": "code",
   "execution_count": 23,
   "metadata": {},
   "outputs": [],
   "source": [
    "import numpy as np\n",
    "a = np.load('data/target_process.npy')"
   ]
  },
  {
   "cell_type": "code",
   "execution_count": 24,
   "metadata": {},
   "outputs": [
    {
     "data": {
      "text/plain": [
       "(23724, 1)"
      ]
     },
     "execution_count": 24,
     "metadata": {},
     "output_type": "execute_result"
    }
   ],
   "source": [
    "a.shape"
   ]
  },
  {
   "cell_type": "code",
   "execution_count": 12,
   "metadata": {},
   "outputs": [],
   "source": [
    "import pandas as pd\n",
    "train_df = pd.read_csv(\"E:/Git/Problem2/data/train_preprocess.csv\")\n",
    "test_df = pd.read_csv(\"E:/Git/Problem2/data/test_preprocess.csv\")"
   ]
  },
  {
   "cell_type": "code",
   "execution_count": 13,
   "metadata": {},
   "outputs": [],
   "source": [
    "train_df = train_df.drop(columns='Index')\n",
    "test_df = test_df.drop(columns='Index')"
   ]
  },
  {
   "cell_type": "code",
   "execution_count": 16,
   "metadata": {},
   "outputs": [],
   "source": [
    "train_df.to_csv('data/train.csv', index = False)\n",
    "test_df.to_csv('data/test.csv', index = False)"
   ]
  },
  {
   "cell_type": "code",
   "execution_count": 1,
   "metadata": {},
   "outputs": [],
   "source": [
    "import numpy as np\n",
    "data_npy = np.load('data/data.npy')"
   ]
  },
  {
   "cell_type": "code",
   "execution_count": 4,
   "metadata": {},
   "outputs": [
    {
     "data": {
      "text/plain": [
       "(3954, 256)"
      ]
     },
     "execution_count": 4,
     "metadata": {},
     "output_type": "execute_result"
    }
   ],
   "source": [
    "data_npy.astype(np.int64).shape"
   ]
  }
 ],
 "metadata": {
  "kernelspec": {
   "display_name": "Python 3.9.12 ('QN')",
   "language": "python",
   "name": "python3"
  },
  "language_info": {
   "codemirror_mode": {
    "name": "ipython",
    "version": 3
   },
   "file_extension": ".py",
   "mimetype": "text/x-python",
   "name": "python",
   "nbconvert_exporter": "python",
   "pygments_lexer": "ipython3",
   "version": "3.9.12"
  },
  "orig_nbformat": 4,
  "vscode": {
   "interpreter": {
    "hash": "d6380cd8d6d2424f8fc70282f342af6d0be361f751f7cac84e6bf0d25e635ba5"
   }
  }
 },
 "nbformat": 4,
 "nbformat_minor": 2
}
